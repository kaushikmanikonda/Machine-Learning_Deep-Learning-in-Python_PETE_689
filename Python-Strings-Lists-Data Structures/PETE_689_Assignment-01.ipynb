{
 "cells": [
  {
   "cell_type": "code",
   "execution_count": 3,
   "metadata": {},
   "outputs": [
    {
     "name": "stdin",
     "output_type": "stream",
     "text": [
      "Please Enter a String:  Kaushik Manikonda\n"
     ]
    }
   ],
   "source": [
    "## Asks the user to enter a string and stores it in a variable \"dummy\".\n",
    "\n",
    "dummy = input(\"Please Enter a String: \")"
   ]
  },
  {
   "cell_type": "markdown",
   "metadata": {},
   "source": [
    "### 1. The next cell displays only the characters from dummy in the odd index slots."
   ]
  },
  {
   "cell_type": "code",
   "execution_count": 6,
   "metadata": {},
   "outputs": [
    {
     "data": {
      "text/plain": [
       "'asi aiod'"
      ]
     },
     "execution_count": 6,
     "metadata": {},
     "output_type": "execute_result"
    }
   ],
   "source": [
    "dummy[1:len(dummy):2]"
   ]
  },
  {
   "cell_type": "markdown",
   "metadata": {},
   "source": [
    "### 2. Write a function to return True if the first and last number of a given list is same. If numbers\n",
    "### are different then return False ( 3 points)."
   ]
  },
  {
   "cell_type": "code",
   "execution_count": 13,
   "metadata": {},
   "outputs": [],
   "source": [
    "def same_number(dummy2):\n",
    "    if dummy2[0] == dummy2[(len(dummy2)-1)]:\n",
    "        print(\"Given List:\",dummy2,\"\\n\",\"Result is True\")\n",
    "    else:\n",
    "        print(\"Given List:\",dummy2,\"\\n\",\"Result is False\")"
   ]
  },
  {
   "cell_type": "code",
   "execution_count": 14,
   "metadata": {},
   "outputs": [
    {
     "name": "stdout",
     "output_type": "stream",
     "text": [
      "Given List: [10, 20, 30, 40, 10] \n",
      " Result is True\n"
     ]
    }
   ],
   "source": [
    "numbers_x = [10, 20, 30, 40, 10]\n",
    "same_number(numbers_x)"
   ]
  },
  {
   "cell_type": "code",
   "execution_count": 16,
   "metadata": {},
   "outputs": [
    {
     "name": "stdout",
     "output_type": "stream",
     "text": [
      "Given List: [75, 65, 35, 75, 30] \n",
      " Result is False\n"
     ]
    }
   ],
   "source": [
    "numbers_y = [75, 65, 35, 75, 30]\n",
    "same_number(numbers_y)"
   ]
  },
  {
   "cell_type": "markdown",
   "metadata": {},
   "source": [
    "### 3. Create a new list from a two list using the following condition (4 points):\n",
    "### Given a two list of numbers, write a program to create a new list such that the new list\n",
    "### should contain odd numbers from the first list and even numbers from the second list."
   ]
  },
  {
   "cell_type": "code",
   "execution_count": 21,
   "metadata": {},
   "outputs": [],
   "source": [
    "list1 = [10, 20, 25, 30, 35]\n",
    "list2 = [40, 45, 60, 75, 90]\n"
   ]
  },
  {
   "cell_type": "code",
   "execution_count": 27,
   "metadata": {},
   "outputs": [
    {
     "name": "stdout",
     "output_type": "stream",
     "text": [
      "[25, 35, 40, 60, 90]\n"
     ]
    }
   ],
   "source": [
    "dummy3 = []\n",
    "for i in list1:\n",
    "    if i%2 == 1:\n",
    "        dummy3.append(i)\n",
    "    else:\n",
    "        dummy3\n",
    "\n",
    "#print(dummy3)\n",
    "\n",
    "for j in list2:\n",
    "    if j%2 == 0:\n",
    "        dummy3.append(j)\n",
    "    else:\n",
    "        dummy3\n",
    "        \n",
    "print(dummy3)"
   ]
  }
 ],
 "metadata": {
  "kernelspec": {
   "display_name": "Python 3",
   "language": "python",
   "name": "python3"
  },
  "language_info": {
   "codemirror_mode": {
    "name": "ipython",
    "version": 3
   },
   "file_extension": ".py",
   "mimetype": "text/x-python",
   "name": "python",
   "nbconvert_exporter": "python",
   "pygments_lexer": "ipython3",
   "version": "3.8.5"
  }
 },
 "nbformat": 4,
 "nbformat_minor": 4
}
