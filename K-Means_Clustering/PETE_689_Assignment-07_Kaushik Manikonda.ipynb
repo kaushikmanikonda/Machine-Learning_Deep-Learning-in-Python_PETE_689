{
 "cells": [
  {
   "cell_type": "markdown",
   "metadata": {},
   "source": [
    "### 1. Import the Geologic Data Set from the provided ‘Geologic_DataSet.csv’ file and perform\n",
    "### the following (10 points):\n",
    "### a. Apply standard scaling on the data using the sklearn library.\n",
    "### b. Apply the k-means clustering algorithm using the sklearn library with number of clusters = 3, 7, 12, and 15.\n",
    "### c. For each number of clusters plot the variation of silhouette coefficients with clusters\n",
    "### clearly indicating the average silhouette coefficient for all the clusters."
   ]
  },
  {
   "cell_type": "code",
   "execution_count": 1,
   "metadata": {},
   "outputs": [],
   "source": [
    "import pandas as pd\n",
    "from scipy import stats\n",
    "from sklearn.cluster import KMeans\n",
    "import matplotlib.pyplot as plt\n",
    "import seaborn as sns\n",
    "import pandas as pd\n",
    "from sklearn import preprocessing\n",
    "import pylab as pl\n",
    "import numpy as np\n",
    "%matplotlib inline"
   ]
  },
  {
   "cell_type": "code",
   "execution_count": 2,
   "metadata": {},
   "outputs": [
    {
     "data": {
      "text/html": [
       "<div>\n",
       "<style scoped>\n",
       "    .dataframe tbody tr th:only-of-type {\n",
       "        vertical-align: middle;\n",
       "    }\n",
       "\n",
       "    .dataframe tbody tr th {\n",
       "        vertical-align: top;\n",
       "    }\n",
       "\n",
       "    .dataframe thead th {\n",
       "        text-align: right;\n",
       "    }\n",
       "</style>\n",
       "<table border=\"1\" class=\"dataframe\">\n",
       "  <thead>\n",
       "    <tr style=\"text-align: right;\">\n",
       "      <th></th>\n",
       "      <th>GR_API</th>\n",
       "      <th>Bulk Density, gcc</th>\n",
       "      <th>Resistivity, ohm-m</th>\n",
       "      <th>Water Saturation, fraction</th>\n",
       "      <th>PhiH, ft</th>\n",
       "      <th>TOC, fraction</th>\n",
       "      <th>TVD, ft</th>\n",
       "    </tr>\n",
       "  </thead>\n",
       "  <tbody>\n",
       "    <tr>\n",
       "      <th>0</th>\n",
       "      <td>118</td>\n",
       "      <td>2.2096</td>\n",
       "      <td>23</td>\n",
       "      <td>0.13</td>\n",
       "      <td>23</td>\n",
       "      <td>0.077</td>\n",
       "      <td>10670</td>\n",
       "    </tr>\n",
       "    <tr>\n",
       "      <th>1</th>\n",
       "      <td>170</td>\n",
       "      <td>2.2185</td>\n",
       "      <td>21</td>\n",
       "      <td>0.17</td>\n",
       "      <td>20</td>\n",
       "      <td>0.073</td>\n",
       "      <td>9932</td>\n",
       "    </tr>\n",
       "    <tr>\n",
       "      <th>2</th>\n",
       "      <td>166</td>\n",
       "      <td>2.2260</td>\n",
       "      <td>14</td>\n",
       "      <td>0.20</td>\n",
       "      <td>21</td>\n",
       "      <td>0.070</td>\n",
       "      <td>9747</td>\n",
       "    </tr>\n",
       "    <tr>\n",
       "      <th>3</th>\n",
       "      <td>166</td>\n",
       "      <td>2.2260</td>\n",
       "      <td>14</td>\n",
       "      <td>0.20</td>\n",
       "      <td>21</td>\n",
       "      <td>0.070</td>\n",
       "      <td>9747</td>\n",
       "    </tr>\n",
       "    <tr>\n",
       "      <th>4</th>\n",
       "      <td>135</td>\n",
       "      <td>2.2303</td>\n",
       "      <td>22</td>\n",
       "      <td>0.16</td>\n",
       "      <td>24</td>\n",
       "      <td>0.068</td>\n",
       "      <td>9222</td>\n",
       "    </tr>\n",
       "  </tbody>\n",
       "</table>\n",
       "</div>"
      ],
      "text/plain": [
       "   GR_API  Bulk Density, gcc  Resistivity, ohm-m  Water Saturation, fraction  \\\n",
       "0     118             2.2096                  23                        0.13   \n",
       "1     170             2.2185                  21                        0.17   \n",
       "2     166             2.2260                  14                        0.20   \n",
       "3     166             2.2260                  14                        0.20   \n",
       "4     135             2.2303                  22                        0.16   \n",
       "\n",
       "   PhiH, ft  TOC, fraction  TVD, ft  \n",
       "0        23          0.077    10670  \n",
       "1        20          0.073     9932  \n",
       "2        21          0.070     9747  \n",
       "3        21          0.070     9747  \n",
       "4        24          0.068     9222  "
      ]
     },
     "execution_count": 2,
     "metadata": {},
     "output_type": "execute_result"
    }
   ],
   "source": [
    "df = pd.read_csv('Geologic_DataSet.csv')\n",
    "df.head()"
   ]
  },
  {
   "cell_type": "code",
   "execution_count": 3,
   "metadata": {},
   "outputs": [
    {
     "data": {
      "text/plain": [
       "Text(0.5, 1.0, 'Clustering Data')"
      ]
     },
     "execution_count": 3,
     "metadata": {},
     "output_type": "execute_result"
    },
    {
     "data": {
      "text/plain": [
       "<Figure size 360x360 with 0 Axes>"
      ]
     },
     "metadata": {},
     "output_type": "display_data"
    },
    {
     "data": {
      "image/png": "[encoded data removed]",
      "text/plain": [
       "<Figure size 360x360 with 1 Axes>"
      ]
     },
     "metadata": {
      "needs_background": "light"
     },
     "output_type": "display_data"
    }
   ],
   "source": [
    "fig=plt.figure(figsize=(5,5))\n",
    "data=df['GR_API']\n",
    "sns.displot(data, color='g', kde=True)\n",
    "plt.title('Clustering Data')"
   ]
  },
  {
   "cell_type": "code",
   "execution_count": 4,
   "metadata": {},
   "outputs": [
    {
     "data": {
      "text/html": [
       "<div>\n",
       "<style scoped>\n",
       "    .dataframe tbody tr th:only-of-type {\n",
       "        vertical-align: middle;\n",
       "    }\n",
       "\n",
       "    .dataframe tbody tr th {\n",
       "        vertical-align: top;\n",
       "    }\n",
       "\n",
       "    .dataframe thead th {\n",
       "        text-align: right;\n",
       "    }\n",
       "</style>\n",
       "<table border=\"1\" class=\"dataframe\">\n",
       "  <thead>\n",
       "    <tr style=\"text-align: right;\">\n",
       "      <th></th>\n",
       "      <th>GR_API</th>\n",
       "      <th>Bulk Density, gcc</th>\n",
       "      <th>Resistivity, ohm-m</th>\n",
       "      <th>Water Saturation, fraction</th>\n",
       "      <th>PhiH, ft</th>\n",
       "      <th>TVD, ft</th>\n",
       "    </tr>\n",
       "  </thead>\n",
       "  <tbody>\n",
       "    <tr>\n",
       "      <th>0</th>\n",
       "      <td>118</td>\n",
       "      <td>2.2096</td>\n",
       "      <td>23</td>\n",
       "      <td>0.13</td>\n",
       "      <td>23</td>\n",
       "      <td>10670</td>\n",
       "    </tr>\n",
       "    <tr>\n",
       "      <th>1</th>\n",
       "      <td>170</td>\n",
       "      <td>2.2185</td>\n",
       "      <td>21</td>\n",
       "      <td>0.17</td>\n",
       "      <td>20</td>\n",
       "      <td>9932</td>\n",
       "    </tr>\n",
       "    <tr>\n",
       "      <th>2</th>\n",
       "      <td>166</td>\n",
       "      <td>2.2260</td>\n",
       "      <td>14</td>\n",
       "      <td>0.20</td>\n",
       "      <td>21</td>\n",
       "      <td>9747</td>\n",
       "    </tr>\n",
       "    <tr>\n",
       "      <th>3</th>\n",
       "      <td>166</td>\n",
       "      <td>2.2260</td>\n",
       "      <td>14</td>\n",
       "      <td>0.20</td>\n",
       "      <td>21</td>\n",
       "      <td>9747</td>\n",
       "    </tr>\n",
       "    <tr>\n",
       "      <th>4</th>\n",
       "      <td>135</td>\n",
       "      <td>2.2303</td>\n",
       "      <td>22</td>\n",
       "      <td>0.16</td>\n",
       "      <td>24</td>\n",
       "      <td>9222</td>\n",
       "    </tr>\n",
       "  </tbody>\n",
       "</table>\n",
       "</div>"
      ],
      "text/plain": [
       "   GR_API  Bulk Density, gcc  Resistivity, ohm-m  Water Saturation, fraction  \\\n",
       "0     118             2.2096                  23                        0.13   \n",
       "1     170             2.2185                  21                        0.17   \n",
       "2     166             2.2260                  14                        0.20   \n",
       "3     166             2.2260                  14                        0.20   \n",
       "4     135             2.2303                  22                        0.16   \n",
       "\n",
       "   PhiH, ft  TVD, ft  \n",
       "0        23    10670  \n",
       "1        20     9932  \n",
       "2        21     9747  \n",
       "3        21     9747  \n",
       "4        24     9222  "
      ]
     },
     "execution_count": 4,
     "metadata": {},
     "output_type": "execute_result"
    }
   ],
   "source": [
    "df.drop(labels=['TOC, fraction'], axis=1, inplace=True)\n",
    "df.head()"
   ]
  },
  {
   "cell_type": "code",
   "execution_count": 5,
   "metadata": {},
   "outputs": [
    {
     "data": {
      "text/plain": [
       "array([[-1.31654221, -1.63691997,  0.07053355, -0.79799783,  0.85324677,\n",
       "         0.88856422],\n",
       "       [ 0.39613573, -1.19092098, -0.18063471,  0.27088   , -0.08890975,\n",
       "        -0.00377924],\n",
       "       [ 0.26439127, -0.81507913, -1.05972362,  1.07253837,  0.22514243,\n",
       "        -0.22746968],\n",
       "       ...,\n",
       "       [-0.03203375,  0.96891686, -0.30621884,  0.27088   , -0.7170141 ,\n",
       "        -1.12102229],\n",
       "       [-0.52607547,  0.50287296, -1.05972362,  1.33975783,  0.5391946 ,\n",
       "         0.55846969],\n",
       "       [-0.32845878, -0.45928217, -0.43180297,  0.27088   ,  1.16729895,\n",
       "        -0.65913177]])"
      ]
     },
     "execution_count": 5,
     "metadata": {},
     "output_type": "execute_result"
    }
   ],
   "source": [
    "# a. Apply standard scaling on the data using the sklearn library\n",
    "\n",
    "from sklearn.preprocessing import StandardScaler\n",
    "scaler=StandardScaler()\n",
    "df_scaled=scaler.fit(df)\n",
    "df_scaled=scaler.transform(df)\n",
    "df_scaled"
   ]
  },
  {
   "cell_type": "code",
   "execution_count": 6,
   "metadata": {},
   "outputs": [
    {
     "data": {
      "text/plain": [
       "Text(0.5, 1.0, 'The Elbow Method showing the optimal k')"
      ]
     },
     "execution_count": 6,
     "metadata": {},
     "output_type": "execute_result"
    },
    {
     "data": {
      "image/png": "[encoded data removed]",
      "text/plain": [
       "<Figure size 432x288 with 1 Axes>"
      ]
     },
     "metadata": {
      "needs_background": "light"
     },
     "output_type": "display_data"
    }
   ],
   "source": [
    "import matplotlib.pyplot as plt\n",
    "distortions=[]\n",
    "for i in range (1,21):\n",
    "    km=KMeans(n_clusters=i,random_state=1000,init='k-means++', n_init=1000, max_iter=500)\n",
    "    km.fit(df_scaled)\n",
    "    distortions.append(km.inertia_)\n",
    "plt.plot(range(1,21),distortions, marker='o')\n",
    "plt.xlabel('Number of Clusters')\n",
    "plt.ylabel('Distortion (Within Cluster Sum of Squared Errors)')\n",
    "plt.title('The Elbow Method showing the optimal k')"
   ]
  },
  {
   "cell_type": "code",
   "execution_count": 7,
   "metadata": {},
   "outputs": [
    {
     "name": "stdout",
     "output_type": "stream",
     "text": [
      "[[-0.44034813 -0.91562349  0.05628287 -0.73545711  0.23627903  0.7052384 ]\n",
      " [ 0.87635604  0.09651633  1.14360509 -0.69779054 -0.92451285 -0.31154792]\n",
      " [-0.194934    0.63942206 -0.73524138  0.98298374  0.37962214 -0.34889323]]\n"
     ]
    }
   ],
   "source": [
    "## b. Apply the k-means clustering algorithm using the sklearn library with number of clusters = 3, 7, 12, and 15.\n",
    "\n",
    "n=3\n",
    "# Initializing KMeans\n",
    "kmeans = KMeans(n_clusters=n,random_state=1000,init='k-means++', n_init=1000, max_iter=500)\n",
    "# Fitting with inputs\n",
    "kmeans = kmeans.fit(df_scaled)\n",
    "\n",
    "# print location of clusters learned by kmeans object\n",
    "print(kmeans.cluster_centers_)\n"
   ]
  },
  {
   "cell_type": "code",
   "execution_count": 8,
   "metadata": {},
   "outputs": [],
   "source": [
    "labels=kmeans.labels_\n",
    "labels\n",
    "df_scaled= pd.DataFrame(df_scaled,columns=df.columns[0:6])\n",
    "df_scaled['Clusters']=labels"
   ]
  },
  {
   "cell_type": "code",
   "execution_count": 9,
   "metadata": {},
   "outputs": [
    {
     "data": {
      "text/plain": [
       "Text(0.5, 0, 'silhouette coefficient')"
      ]
     },
     "execution_count": 9,
     "metadata": {},
     "output_type": "execute_result"
    },
    {
     "data": {
      "image/png": "[encoded data removed]",
      "text/plain": [
       "<Figure size 432x288 with 1 Axes>"
      ]
     },
     "metadata": {
      "needs_background": "light"
     },
     "output_type": "display_data"
    }
   ],
   "source": [
    "import numpy as np\n",
    "from matplotlib import cm\n",
    "from sklearn.metrics import silhouette_samples\n",
    "cluster_labels=np.unique(labels)\n",
    "n_clusters=cluster_labels.shape[0]\n",
    "silhouette_vals=silhouette_samples(df_scaled,labels,metric='euclidean')\n",
    "y_ax_lower, y_ax_upper=0,0\n",
    "yticks=[]\n",
    "for i, c in enumerate (cluster_labels):\n",
    "    c_silhouette_vals= silhouette_vals[labels==c]\n",
    "    c_silhouette_vals.sort()\n",
    "    y_ax_upper += len(c_silhouette_vals)\n",
    "    color= cm.jet(float(i)/n_clusters)\n",
    "    plt.barh(range(y_ax_lower,y_ax_upper),c_silhouette_vals,height=1,edgecolor='none',color=color)\n",
    "    yticks.append((y_ax_lower+y_ax_upper)/2.)\n",
    "    y_ax_lower += len(c_silhouette_vals)\n",
    "silhouette_avg=np.mean(silhouette_vals)\n",
    "plt.axvline(silhouette_avg,color=\"red\",linestyle=\"--\")\n",
    "plt.yticks(yticks, cluster_labels +1)\n",
    "plt.ylabel('Cluster')\n",
    "plt.xlabel('silhouette coefficient')\n",
    "# plt.show()"
   ]
  },
  {
   "cell_type": "code",
   "execution_count": 10,
   "metadata": {},
   "outputs": [
    {
     "name": "stdout",
     "output_type": "stream",
     "text": [
      "[[ 1.29301145e+00 -5.47325537e-01  5.32296739e-01 -7.77442491e-01\n",
      "  -5.47909079e-01  5.15368588e-01  7.69230769e-01]\n",
      " [-3.46103129e-01  4.27239266e-01 -6.88353406e-01  7.90049232e-01\n",
      "   8.60621776e-02 -2.95768676e-01  2.00000000e+00]\n",
      " [-4.79759057e-01 -9.51634999e-01  2.66758756e-01 -7.14491753e-01\n",
      "   3.77261448e-01 -2.02115579e-01  3.12500000e-02]\n",
      " [-3.50915224e-01  5.53212994e-01 -7.68596772e-01  1.01180668e+00\n",
      "   2.43778274e+00 -3.35467643e-01  2.00000000e+00]\n",
      " [ 5.49837595e-01  5.49894956e-01  1.67591735e+00 -6.24305186e-01\n",
      "  -9.73490038e-01 -8.29035735e-01  1.00000000e+00]\n",
      " [ 8.74425387e-01  2.01343039e+00 -9.88741285e-01  2.12979797e+00\n",
      "   1.97833541e-01 -6.85101936e-01  2.00000000e+00]\n",
      " [-7.85447366e-01 -8.56343429e-01 -2.53238033e-01 -7.52069490e-01\n",
      "  -5.48963917e-03  1.46443485e+00 -8.88178420e-16]]\n"
     ]
    }
   ],
   "source": [
    "n=7\n",
    "# Initializing KMeans\n",
    "kmeans = KMeans(n_clusters=n,random_state=1000,init='k-means++', n_init=1000, max_iter=500)\n",
    "# Fitting with inputs\n",
    "kmeans = kmeans.fit(df_scaled)\n",
    "\n",
    "# print location of clusters learned by kmeans object\n",
    "print(kmeans.cluster_centers_)\n"
   ]
  },
  {
   "cell_type": "code",
   "execution_count": 11,
   "metadata": {},
   "outputs": [],
   "source": [
    "labels=kmeans.labels_\n",
    "labels\n",
    "df_scaled= pd.DataFrame(df_scaled,columns=df.columns[0:6])\n",
    "df_scaled['Clusters']=labels"
   ]
  },
  {
   "cell_type": "code",
   "execution_count": 12,
   "metadata": {},
   "outputs": [
    {
     "data": {
      "text/plain": [
       "Text(0.5, 0, 'silhouette coefficient')"
      ]
     },
     "execution_count": 12,
     "metadata": {},
     "output_type": "execute_result"
    },
    {
     "data": {
      "image/png": "[encoded data removed]",
      "text/plain": [
       "<Figure size 432x288 with 1 Axes>"
      ]
     },
     "metadata": {
      "needs_background": "light"
     },
     "output_type": "display_data"
    }
   ],
   "source": [
    "import numpy as np\n",
    "from matplotlib import cm\n",
    "from sklearn.metrics import silhouette_samples\n",
    "cluster_labels=np.unique(labels)\n",
    "n_clusters=cluster_labels.shape[0]\n",
    "silhouette_vals=silhouette_samples(df_scaled,labels,metric='euclidean')\n",
    "y_ax_lower, y_ax_upper=0,0\n",
    "yticks=[]\n",
    "for i, c in enumerate (cluster_labels):\n",
    "    c_silhouette_vals= silhouette_vals[labels==c]\n",
    "    c_silhouette_vals.sort()\n",
    "    y_ax_upper += len(c_silhouette_vals)\n",
    "    color= cm.jet(float(i)/n_clusters)\n",
    "    plt.barh(range(y_ax_lower,y_ax_upper),c_silhouette_vals,height=1,edgecolor='none',color=color)\n",
    "    yticks.append((y_ax_lower+y_ax_upper)/2.)\n",
    "    y_ax_lower += len(c_silhouette_vals)\n",
    "silhouette_avg=np.mean(silhouette_vals)\n",
    "plt.axvline(silhouette_avg,color=\"red\",linestyle=\"--\")\n",
    "plt.yticks(yticks, cluster_labels +1)\n",
    "plt.ylabel('Cluster')\n",
    "plt.xlabel('silhouette coefficient')\n",
    "# plt.show()"
   ]
  },
  {
   "cell_type": "code",
   "execution_count": 13,
   "metadata": {},
   "outputs": [
    {
     "name": "stdout",
     "output_type": "stream",
     "text": [
      "[[-6.22350263e-01  1.12349387e+00 -5.43862654e-01  9.28650973e-01\n",
      "  -6.95834602e-02 -2.32008597e-01  1.00000000e+00]\n",
      " [-1.09916385e+00 -9.23321579e-01  5.14264146e-01 -8.78163671e-01\n",
      "   5.28726194e-01 -5.84890724e-01  2.00000000e+00]\n",
      " [ 2.61527263e-01  2.84666811e-01  1.38916692e+00 -5.42396613e-01\n",
      "  -6.41914663e-01 -8.85529618e-01  4.00000000e+00]\n",
      " [ 8.74425387e-01  2.01343039e+00 -9.88741285e-01  2.12979797e+00\n",
      "   1.97833541e-01 -6.85101936e-01  5.00000000e+00]\n",
      " [-7.38245319e-01 -1.14174105e+00  1.96117683e-01 -9.59572390e-01\n",
      "  -5.96955921e-02  1.45888345e+00  6.00000000e+00]\n",
      " [ 1.03948783e+00 -7.59287491e-01  5.70079315e-01 -8.27688885e-01\n",
      "  -8.89097479e-02  4.04130006e-01  4.44089210e-16]\n",
      " [ 6.67745876e-02 -9.76617428e-01  4.83716473e-02 -5.70075355e-01\n",
      "   2.43616083e-01  1.35627195e-01  2.00000000e+00]\n",
      " [ 1.49714297e+00  1.42135886e+00  2.61809734e+00 -8.93433355e-01\n",
      "  -2.06295198e+00 -6.43412978e-01  4.00000000e+00]\n",
      " [-8.82099178e-01 -2.71957823e-01 -1.17334736e+00 -3.27182598e-01\n",
      "   1.05503503e-01  1.47580200e+00  6.00000000e+00]\n",
      " [-3.50915224e-01  5.53212994e-01 -7.68596772e-01  1.01180668e+00\n",
      "   2.43778274e+00 -3.35467643e-01  3.00000000e+00]\n",
      " [ 1.82650412e+00 -5.79069404e-02  3.63563190e-01 -6.19851529e-01\n",
      "  -1.55448656e+00  7.94251500e-01  4.76190476e-02]\n",
      " [-1.22830610e-01 -1.81159204e-01 -8.06858276e-01  6.75320260e-01\n",
      "   2.37874271e-01 -3.74232829e-01  1.00000000e+00]]\n"
     ]
    }
   ],
   "source": [
    "n=12\n",
    "# Initializing KMeans\n",
    "kmeans = KMeans(n_clusters=n,random_state=1000,init='k-means++', n_init=1000, max_iter=500)\n",
    "# Fitting with inputs\n",
    "kmeans = kmeans.fit(df_scaled)\n",
    "\n",
    "# print location of clusters learned by kmeans object\n",
    "print(kmeans.cluster_centers_)\n"
   ]
  },
  {
   "cell_type": "code",
   "execution_count": 14,
   "metadata": {},
   "outputs": [
    {
     "data": {
      "text/plain": [
       "Text(0.5, 0, 'silhouette coefficient')"
      ]
     },
     "execution_count": 14,
     "metadata": {},
     "output_type": "execute_result"
    },
    {
     "data": {
      "image/png": "[encoded data removed]",
      "text/plain": [
       "<Figure size 432x288 with 1 Axes>"
      ]
     },
     "metadata": {
      "needs_background": "light"
     },
     "output_type": "display_data"
    }
   ],
   "source": [
    "labels=kmeans.labels_\n",
    "labels\n",
    "df_scaled= pd.DataFrame(df_scaled,columns=df.columns[0:6])\n",
    "df_scaled['Clusters']=labels\n",
    "\n",
    "import numpy as np\n",
    "from matplotlib import cm\n",
    "from sklearn.metrics import silhouette_samples\n",
    "cluster_labels=np.unique(labels)\n",
    "n_clusters=cluster_labels.shape[0]\n",
    "silhouette_vals=silhouette_samples(df_scaled,labels,metric='euclidean')\n",
    "y_ax_lower, y_ax_upper=0,0\n",
    "yticks=[]\n",
    "for i, c in enumerate (cluster_labels):\n",
    "    c_silhouette_vals= silhouette_vals[labels==c]\n",
    "    c_silhouette_vals.sort()\n",
    "    y_ax_upper += len(c_silhouette_vals)\n",
    "    color= cm.jet(float(i)/n_clusters)\n",
    "    plt.barh(range(y_ax_lower,y_ax_upper),c_silhouette_vals,height=1,edgecolor='none',color=color)\n",
    "    yticks.append((y_ax_lower+y_ax_upper)/2.)\n",
    "    y_ax_lower += len(c_silhouette_vals)\n",
    "silhouette_avg=np.mean(silhouette_vals)\n",
    "plt.axvline(silhouette_avg,color=\"red\",linestyle=\"--\")\n",
    "plt.yticks(yticks, cluster_labels +1)\n",
    "plt.ylabel('Cluster')\n",
    "plt.xlabel('silhouette coefficient')\n",
    "# plt.show()"
   ]
  },
  {
   "cell_type": "code",
   "execution_count": null,
   "metadata": {},
   "outputs": [],
   "source": []
  },
  {
   "cell_type": "code",
   "execution_count": 15,
   "metadata": {},
   "outputs": [
    {
     "name": "stdout",
     "output_type": "stream",
     "text": [
      "[[ 5.47641854e-01  2.98743816e+00 -7.33204881e-01  2.83618680e+00\n",
      "  -1.21949757e+00 -1.45006504e-01  3.00000000e+00]\n",
      " [-1.22830610e-01 -1.81159204e-01 -8.06858276e-01  6.75320260e-01\n",
      "   2.37874271e-01 -3.74232829e-01  1.10000000e+01]\n",
      " [ 8.07837156e-01 -6.63907182e-01  5.57172057e-01 -8.64802699e-01\n",
      "  -4.94560472e-01 -1.28270026e-01  5.00000000e+00]\n",
      " [-6.22350263e-01  1.12349387e+00 -5.43862654e-01  9.28650973e-01\n",
      "  -6.95834602e-02 -2.32008597e-01  2.66453526e-15]\n",
      " [ 1.82650412e+00 -5.79069404e-02  3.63563190e-01 -6.19851529e-01\n",
      "  -1.55448656e+00  7.94251500e-01  1.00000000e+01]\n",
      " [ 5.21546318e-01  2.78331551e-01  1.23460184e+00 -3.45780289e-01\n",
      "  -2.94251554e-01 -1.30104426e+00  2.00000000e+00]\n",
      " [-1.09916385e+00 -9.23321579e-01  5.14264146e-01 -8.78163671e-01\n",
      "   5.28726194e-01 -5.84890724e-01  1.00000000e+00]\n",
      " [-3.50915224e-01  5.53212994e-01 -7.68596772e-01  1.01180668e+00\n",
      "   2.43778274e+00 -3.35467643e-01  9.00000000e+00]\n",
      " [ 1.49714297e+00  1.42135886e+00  2.61809734e+00 -8.93433355e-01\n",
      "  -2.06295198e+00 -6.43412978e-01  7.00000000e+00]\n",
      " [-8.82099178e-01 -2.71957823e-01 -1.17334736e+00 -3.27182598e-01\n",
      "   1.05503503e-01  1.47580200e+00  8.00000000e+00]\n",
      " [ 1.21542157e+00 -8.45146474e-01  5.57172057e-01 -7.75729546e-01\n",
      "   3.55997498e-01  1.09129628e+00  4.87500000e+00]\n",
      " [-8.38145149e-01 -1.17613786e+00  1.83559270e-01 -9.78370968e-01\n",
      "  -8.10584435e-02  1.44513021e+00  4.00000000e+00]\n",
      " [ 9.65198591e-01  1.74287267e+00 -1.05972362e+00  1.93357885e+00\n",
      "   5.91536629e-01 -8.35128445e-01  3.00000000e+00]\n",
      " [-7.64975090e-02  2.92902650e-01  1.59010153e+00 -7.97997834e-01\n",
      "  -1.09387670e+00 -3.45360586e-01  2.00000000e+00]\n",
      " [ 6.67745876e-02 -9.76617428e-01  4.83716473e-02 -5.70075355e-01\n",
      "   2.43616083e-01  1.35627195e-01  6.00000000e+00]]\n"
     ]
    }
   ],
   "source": [
    "n=15\n",
    "# Initializing KMeans\n",
    "kmeans = KMeans(n_clusters=n,random_state=1000,init='k-means++', n_init=1000, max_iter=500)\n",
    "# Fitting with inputs\n",
    "kmeans = kmeans.fit(df_scaled)\n",
    "\n",
    "# print location of clusters learned by kmeans object\n",
    "print(kmeans.cluster_centers_)\n"
   ]
  },
  {
   "cell_type": "code",
   "execution_count": 16,
   "metadata": {},
   "outputs": [
    {
     "data": {
      "text/plain": [
       "Text(0.5, 0, 'silhouette coefficient')"
      ]
     },
     "execution_count": 16,
     "metadata": {},
     "output_type": "execute_result"
    },
    {
     "data": {
      "image/png": "[encoded data removed]",
      "text/plain": [
       "<Figure size 432x288 with 1 Axes>"
      ]
     },
     "metadata": {
      "needs_background": "light"
     },
     "output_type": "display_data"
    }
   ],
   "source": [
    "labels=kmeans.labels_\n",
    "labels\n",
    "df_scaled= pd.DataFrame(df_scaled,columns=df.columns[0:6])\n",
    "df_scaled['Clusters']=labels\n",
    "\n",
    "import numpy as np\n",
    "from matplotlib import cm\n",
    "from sklearn.metrics import silhouette_samples\n",
    "cluster_labels=np.unique(labels)\n",
    "n_clusters=cluster_labels.shape[0]\n",
    "silhouette_vals=silhouette_samples(df_scaled,labels,metric='euclidean')\n",
    "y_ax_lower, y_ax_upper=0,0\n",
    "yticks=[]\n",
    "for i, c in enumerate (cluster_labels):\n",
    "    c_silhouette_vals= silhouette_vals[labels==c]\n",
    "    c_silhouette_vals.sort()\n",
    "    y_ax_upper += len(c_silhouette_vals)\n",
    "    color= cm.jet(float(i)/n_clusters)\n",
    "    plt.barh(range(y_ax_lower,y_ax_upper),c_silhouette_vals,height=1,edgecolor='none',color=color)\n",
    "    yticks.append((y_ax_lower+y_ax_upper)/2.)\n",
    "    y_ax_lower += len(c_silhouette_vals)\n",
    "silhouette_avg=np.mean(silhouette_vals)\n",
    "plt.axvline(silhouette_avg,color=\"red\",linestyle=\"--\")\n",
    "plt.yticks(yticks, cluster_labels +1)\n",
    "plt.ylabel('Cluster')\n",
    "plt.xlabel('silhouette coefficient')\n",
    "# plt.show()"
   ]
  },
  {
   "cell_type": "code",
   "execution_count": null,
   "metadata": {},
   "outputs": [],
   "source": []
  }
 ],
 "metadata": {
  "kernelspec": {
   "display_name": "Python 3",
   "language": "python",
   "name": "python3"
  },
  "language_info": {
   "codemirror_mode": {
    "name": "ipython",
    "version": 3
   },
   "file_extension": ".py",
   "mimetype": "text/x-python",
   "name": "python",
   "nbconvert_exporter": "python",
   "pygments_lexer": "ipython3",
   "version": "3.8.5"
  }
 },
 "nbformat": 4,
 "nbformat_minor": 4
}
