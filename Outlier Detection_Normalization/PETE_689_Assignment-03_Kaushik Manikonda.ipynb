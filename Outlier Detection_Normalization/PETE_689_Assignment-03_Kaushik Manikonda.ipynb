{
 "cells": [
  {
   "cell_type": "code",
   "execution_count": 1,
   "metadata": {},
   "outputs": [],
   "source": [
    "import numpy as np\n",
    "import pandas as pd\n"
   ]
  },
  {
   "cell_type": "markdown",
   "metadata": {},
   "source": [
    "### 1. Define a dataset with 10000 random numbers drawn from a normal distribution with a mean\n",
    "### of 100 and standard deviation of 10 and call it ‘Input_Data’. Use seed number of 10. Print\n",
    "### mean and standard deviation of this vector. (2 points)"
   ]
  },
  {
   "cell_type": "code",
   "execution_count": 2,
   "metadata": {},
   "outputs": [
    {
     "name": "stdout",
     "output_type": "stream",
     "text": [
      "mean: 100.05102056001915 std: 9.89664012771695\n"
     ]
    }
   ],
   "source": [
    "seed = 10\n",
    "np.random.seed(seed)\n",
    "Input_Data = np.random.normal(100,10,10000)\n",
    "\n",
    "print(\"mean:\",np.mean(Input_Data),\"std:\",np.std(Input_Data))"
   ]
  },
  {
   "cell_type": "markdown",
   "metadata": {},
   "source": [
    "### 2. Outlier detection: A common cut-off value in practice for finding outliers in a normal or\n",
    "### normal-like distribution is three standard deviations from mean. Use this cut-off value to\n",
    "### find the outliers in Input_Data. Create a new array of this outlier values named as ‘outliers’.\n",
    "### Create another array that includes all the data except the outliers and name it as\n",
    "### ‘outliers_removed’. Print the number of identified outliers and non-outlier data. (4 points)"
   ]
  },
  {
   "cell_type": "code",
   "execution_count": 3,
   "metadata": {},
   "outputs": [
    {
     "data": {
      "text/plain": [
       "array([ 67.95598656,  66.82330948,  68.87355056, 136.09160707,\n",
       "       134.54844984,  66.27652989,  66.06891386, 131.93371103,\n",
       "       131.77053404, 131.58873021, 130.77067912, 131.42284866,\n",
       "        63.78361204, 130.27240129,  66.96448475,  67.85970289,\n",
       "       135.61219348, 136.9148933 , 132.86370446, 135.03308591])"
      ]
     },
     "execution_count": 3,
     "metadata": {},
     "output_type": "execute_result"
    }
   ],
   "source": [
    "Outliers = Input_Data[(Input_Data > 130) | (Input_Data < 70)]\n",
    "Outliers"
   ]
  },
  {
   "cell_type": "code",
   "execution_count": 4,
   "metadata": {},
   "outputs": [
    {
     "data": {
      "text/plain": [
       "array([113.31586504, 107.15278974,  84.54599708, ..., 106.47377813,\n",
       "       112.50739219, 111.629442  ])"
      ]
     },
     "execution_count": 4,
     "metadata": {},
     "output_type": "execute_result"
    }
   ],
   "source": [
    "Outliers_Removed = Input_Data[(Input_Data <= 130) & (Input_Data >= 70)]\n",
    "Outliers_Removed"
   ]
  },
  {
   "cell_type": "code",
   "execution_count": 5,
   "metadata": {},
   "outputs": [
    {
     "name": "stdout",
     "output_type": "stream",
     "text": [
      "Outliers: 20 Non-Outliers: 9980\n"
     ]
    }
   ],
   "source": [
    "print(\"Outliers:\",len(Outliers),\"Non-Outliers:\",len(Outliers_Removed))"
   ]
  },
  {
   "cell_type": "markdown",
   "metadata": {},
   "source": [
    "### 3. Create a 8´10 matrix of random integer numbers in the range of 1 to 100 and name it as\n",
    "### ‘Raw_Data’ (4 points):\n",
    "### a. Normalize all columns of Raw_Data by subtracting the column mean and divide by\n",
    "### standard deviation and call this matrix ‘Normalized_Data1’. Print this matrix.\n",
    "### b. Range all columns of Raw_Data such that the minimum value in each column is 0 and\n",
    "### max is 1 and call this matrix ‘Normalized_Data1’. Print this matrix."
   ]
  },
  {
   "cell_type": "code",
   "execution_count": 6,
   "metadata": {},
   "outputs": [
    {
     "data": {
      "text/plain": [
       "array([[10, 16, 65, 29, 90, 94, 30,  9, 74,  1],\n",
       "       [41, 37, 17, 12, 55, 89, 63, 34, 73, 79],\n",
       "       [50, 52, 55, 78, 70, 14, 26, 14, 93, 87],\n",
       "       [31, 31, 90, 13, 66, 32, 58, 37, 28, 19],\n",
       "       [94, 78, 23, 24, 95, 12, 29, 75, 89, 10],\n",
       "       [16, 19, 81, 72, 89, 12, 18, 47,  8, 76],\n",
       "       [29, 34, 85, 97, 89, 45,  6,  5, 72, 89],\n",
       "       [89, 51, 55, 35, 16, 78, 89, 16,  7, 86]])"
      ]
     },
     "execution_count": 6,
     "metadata": {},
     "output_type": "execute_result"
    }
   ],
   "source": [
    "seed = 10\n",
    "np.random.seed(seed)\n",
    "x = np.random.randint(1,100,80)\n",
    "Raw_Data = x.reshape(8,10)\n",
    "Raw_Data"
   ]
  },
  {
   "cell_type": "code",
   "execution_count": 7,
   "metadata": {},
   "outputs": [
    {
     "data": {
      "text/plain": [
       "array([[-1.19210473, -1.25797474,  0.23912114, -0.52494297,  0.75827238,\n",
       "         1.42506053, -0.38326491, -0.93462296,  0.55735281, -1.52277335],\n",
       "       [-0.13624054, -0.14566023, -1.63480779, -1.08269488, -0.6571694 ,\n",
       "         1.27345835,  0.89751909,  0.19825335,  0.52722564,  0.64171542],\n",
       "       [ 0.17030068,  0.64885013, -0.15128072,  1.08269488, -0.05055149,\n",
       "        -1.00057442, -0.53851145, -0.70804769,  1.12976922,  0.86371427],\n",
       "       [-0.47684189, -0.46346438,  1.21512579, -1.04988594, -0.21231627,\n",
       "        -0.45480655,  0.70346091,  0.33419851, -0.82849743, -1.02327594],\n",
       "       [ 1.66894662,  2.02600142, -1.40056667, -0.68898765,  0.96047835,\n",
       "        -1.06121529, -0.42207655,  2.0561705 ,  1.0092605 , -1.27302464],\n",
       "       [-0.98774392, -1.09907266,  0.86376412,  0.88584127,  0.71783119,\n",
       "        -1.06121529, -0.84900455,  0.78734904, -1.43104101,  0.55846585],\n",
       "       [-0.54496216, -0.3045623 ,  1.01992486,  1.70606466,  0.71783119,\n",
       "        -0.06064087, -1.31474418, -1.11588317,  0.49709846,  0.91921398],\n",
       "       [ 1.49864595,  0.59588277, -0.15128072, -0.32808936, -2.23437594,\n",
       "         0.93993354,  1.90662164, -0.61741759, -1.46116819,  0.83596441]])"
      ]
     },
     "execution_count": 7,
     "metadata": {},
     "output_type": "execute_result"
    }
   ],
   "source": [
    "# a. Normalize all columns of Raw_Data by subtracting the column mean and divide by\n",
    "# standard deviation and call this matrix ‘Normalized_Data1’. Print this matrix.\n",
    "Normalized_Data1 = np.zeros((8,10))\n",
    "for i in range (10):\n",
    "    Normalized_Data1[:,i] = (Raw_Data[:,i] - np.mean(Raw_Data[:,i]))/np.std(Raw_Data[:,i])\n",
    "\n",
    "Normalized_Data1"
   ]
  },
  {
   "cell_type": "code",
   "execution_count": 8,
   "metadata": {},
   "outputs": [
    {
     "data": {
      "text/plain": [
       "array([[0.        , 0.        , 0.65753425, 0.2       , 0.93670886,\n",
       "        1.        , 0.28915663, 0.05714286, 0.77906977, 0.        ],\n",
       "       [0.36904762, 0.33870968, 0.        , 0.        , 0.49367089,\n",
       "        0.93902439, 0.68674699, 0.41428571, 0.76744186, 0.88636364],\n",
       "       [0.47619048, 0.58064516, 0.52054795, 0.77647059, 0.6835443 ,\n",
       "        0.02439024, 0.24096386, 0.12857143, 1.        , 0.97727273],\n",
       "       [0.25      , 0.24193548, 1.        , 0.01176471, 0.63291139,\n",
       "        0.24390244, 0.62650602, 0.45714286, 0.24418605, 0.20454545],\n",
       "       [1.        , 1.        , 0.08219178, 0.14117647, 1.        ,\n",
       "        0.        , 0.27710843, 1.        , 0.95348837, 0.10227273],\n",
       "       [0.07142857, 0.0483871 , 0.87671233, 0.70588235, 0.92405063,\n",
       "        0.        , 0.14457831, 0.6       , 0.01162791, 0.85227273],\n",
       "       [0.22619048, 0.29032258, 0.93150685, 1.        , 0.92405063,\n",
       "        0.40243902, 0.        , 0.        , 0.75581395, 1.        ],\n",
       "       [0.94047619, 0.56451613, 0.52054795, 0.27058824, 0.        ,\n",
       "        0.80487805, 1.        , 0.15714286, 0.        , 0.96590909]])"
      ]
     },
     "execution_count": 8,
     "metadata": {},
     "output_type": "execute_result"
    }
   ],
   "source": [
    "# b. Range all columns of Raw_Data such that the minimum value in each column is 0 and\n",
    "# max is 1 and call this matrix ‘Normalized_Data1’. Print this matrix.\n",
    "\n",
    "Normalized_Data2 = np.zeros((8,10))\n",
    "for i in range (10):\n",
    "    Normalized_Data2[:,i] = (Raw_Data[:,i] - np.min(Raw_Data[:,i]))/(np.max(Raw_Data[:,i])-np.min(Raw_Data[:,i]))\n",
    "\n",
    "Normalized_Data2"
   ]
  },
  {
   "cell_type": "code",
   "execution_count": null,
   "metadata": {},
   "outputs": [],
   "source": []
  },
  {
   "cell_type": "code",
   "execution_count": null,
   "metadata": {},
   "outputs": [],
   "source": []
  }
 ],
 "metadata": {
  "kernelspec": {
   "display_name": "Python 3",
   "language": "python",
   "name": "python3"
  },
  "language_info": {
   "codemirror_mode": {
    "name": "ipython",
    "version": 3
   },
   "file_extension": ".py",
   "mimetype": "text/x-python",
   "name": "python",
   "nbconvert_exporter": "python",
   "pygments_lexer": "ipython3",
   "version": "3.8.5"
  }
 },
 "nbformat": 4,
 "nbformat_minor": 4
}
