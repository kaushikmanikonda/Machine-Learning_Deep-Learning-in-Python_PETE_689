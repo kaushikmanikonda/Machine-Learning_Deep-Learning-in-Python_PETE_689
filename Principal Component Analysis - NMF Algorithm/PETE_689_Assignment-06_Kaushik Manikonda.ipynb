{
 "cells": [
  {
   "cell_type": "code",
   "execution_count": 1,
   "metadata": {},
   "outputs": [],
   "source": [
    "import numpy as np\n",
    "import pandas as pd\n",
    "import matplotlib.pyplot as plt\n",
    "import seaborn as sns\n",
    "from scipy import stats\n",
    "%matplotlib inline"
   ]
  },
  {
   "cell_type": "code",
   "execution_count": 2,
   "metadata": {},
   "outputs": [],
   "source": [
    "df=pd.read_excel('Completions_DataSet.xlsx')"
   ]
  },
  {
   "cell_type": "markdown",
   "metadata": {},
   "source": [
    "### 1. Import the Completions Data Set from the provided ‘Completions_DataSet.xlsx’ file and\n",
    "### perform the following (6 points):\n",
    "### a. Apply standard scaling on the data using the sklearn library.\n",
    "### b. Apply the PCA algorithm using the sklearn library with n_components=3.\n",
    "### c. Plot a heat map of new vs. old features.\n",
    "### d. Write the data based on the new features into a csv file: 'Three Principal Components.csv'."
   ]
  },
  {
   "cell_type": "code",
   "execution_count": 3,
   "metadata": {},
   "outputs": [
    {
     "data": {
      "text/html": [
       "<div>\n",
       "<style scoped>\n",
       "    .dataframe tbody tr th:only-of-type {\n",
       "        vertical-align: middle;\n",
       "    }\n",
       "\n",
       "    .dataframe tbody tr th {\n",
       "        vertical-align: top;\n",
       "    }\n",
       "\n",
       "    .dataframe thead th {\n",
       "        text-align: right;\n",
       "    }\n",
       "</style>\n",
       "<table border=\"1\" class=\"dataframe\">\n",
       "  <thead>\n",
       "    <tr style=\"text-align: right;\">\n",
       "      <th></th>\n",
       "      <th>Stage Spacing</th>\n",
       "      <th>Cluster Spacing</th>\n",
       "      <th>Sand per ft (# per ft)</th>\n",
       "      <th>Water per ft (gal per ft)</th>\n",
       "    </tr>\n",
       "  </thead>\n",
       "  <tbody>\n",
       "    <tr>\n",
       "      <th>0</th>\n",
       "      <td>173.4</td>\n",
       "      <td>45.5</td>\n",
       "      <td>1117.2</td>\n",
       "      <td>10.0</td>\n",
       "    </tr>\n",
       "    <tr>\n",
       "      <th>1</th>\n",
       "      <td>166.6</td>\n",
       "      <td>39.0</td>\n",
       "      <td>1117.2</td>\n",
       "      <td>10.0</td>\n",
       "    </tr>\n",
       "    <tr>\n",
       "      <th>2</th>\n",
       "      <td>159.8</td>\n",
       "      <td>41.6</td>\n",
       "      <td>1037.4</td>\n",
       "      <td>10.0</td>\n",
       "    </tr>\n",
       "    <tr>\n",
       "      <th>3</th>\n",
       "      <td>156.4</td>\n",
       "      <td>40.3</td>\n",
       "      <td>1197.0</td>\n",
       "      <td>10.0</td>\n",
       "    </tr>\n",
       "    <tr>\n",
       "      <th>4</th>\n",
       "      <td>170.0</td>\n",
       "      <td>46.8</td>\n",
       "      <td>1117.2</td>\n",
       "      <td>10.0</td>\n",
       "    </tr>\n",
       "  </tbody>\n",
       "</table>\n",
       "</div>"
      ],
      "text/plain": [
       "   Stage Spacing  Cluster Spacing  Sand per ft (# per ft)  \\\n",
       "0          173.4             45.5                  1117.2   \n",
       "1          166.6             39.0                  1117.2   \n",
       "2          159.8             41.6                  1037.4   \n",
       "3          156.4             40.3                  1197.0   \n",
       "4          170.0             46.8                  1117.2   \n",
       "\n",
       "   Water per ft (gal per ft)  \n",
       "0                       10.0  \n",
       "1                       10.0  \n",
       "2                       10.0  \n",
       "3                       10.0  \n",
       "4                       10.0  "
      ]
     },
     "execution_count": 3,
     "metadata": {},
     "output_type": "execute_result"
    }
   ],
   "source": [
    "df.head()"
   ]
  },
  {
   "cell_type": "code",
   "execution_count": 4,
   "metadata": {},
   "outputs": [
    {
     "data": {
      "text/plain": [
       "StandardScaler()"
      ]
     },
     "execution_count": 4,
     "metadata": {},
     "output_type": "execute_result"
    }
   ],
   "source": [
    "#a. Apply standard scaling on the data using the sklearn library.\n",
    "\n",
    "from sklearn.preprocessing import StandardScaler\n",
    "scaler=StandardScaler()\n",
    "scaler.fit(df)"
   ]
  },
  {
   "cell_type": "code",
   "execution_count": 5,
   "metadata": {},
   "outputs": [],
   "source": [
    "scaled_features= scaler.transform(df)"
   ]
  },
  {
   "cell_type": "code",
   "execution_count": 6,
   "metadata": {},
   "outputs": [
    {
     "data": {
      "text/plain": [
       "Index(['Stage Spacing', 'Cluster Spacing', 'Sand per ft (# per ft)',\n",
       "       'Water per ft (gal per ft)'],\n",
       "      dtype='object')"
      ]
     },
     "execution_count": 6,
     "metadata": {},
     "output_type": "execute_result"
    }
   ],
   "source": [
    "df.columns"
   ]
  },
  {
   "cell_type": "code",
   "execution_count": 7,
   "metadata": {},
   "outputs": [],
   "source": [
    "scaled_features=pd.DataFrame(scaled_features, columns=['Stage Spacing', 'Cluster Spacing', 'Sand per ft (# per ft)',\n",
    "       'Water per ft (gal per ft)'])"
   ]
  },
  {
   "cell_type": "code",
   "execution_count": 8,
   "metadata": {},
   "outputs": [
    {
     "data": {
      "text/html": [
       "<div>\n",
       "<style scoped>\n",
       "    .dataframe tbody tr th:only-of-type {\n",
       "        vertical-align: middle;\n",
       "    }\n",
       "\n",
       "    .dataframe tbody tr th {\n",
       "        vertical-align: top;\n",
       "    }\n",
       "\n",
       "    .dataframe thead th {\n",
       "        text-align: right;\n",
       "    }\n",
       "</style>\n",
       "<table border=\"1\" class=\"dataframe\">\n",
       "  <thead>\n",
       "    <tr style=\"text-align: right;\">\n",
       "      <th></th>\n",
       "      <th>Stage Spacing</th>\n",
       "      <th>Cluster Spacing</th>\n",
       "      <th>Sand per ft (# per ft)</th>\n",
       "      <th>Water per ft (gal per ft)</th>\n",
       "    </tr>\n",
       "  </thead>\n",
       "  <tbody>\n",
       "    <tr>\n",
       "      <th>0</th>\n",
       "      <td>-0.865617</td>\n",
       "      <td>1.018309</td>\n",
       "      <td>-1.299677</td>\n",
       "      <td>-1.280053</td>\n",
       "    </tr>\n",
       "    <tr>\n",
       "      <th>1</th>\n",
       "      <td>-1.105788</td>\n",
       "      <td>-0.125501</td>\n",
       "      <td>-1.299677</td>\n",
       "      <td>-1.280053</td>\n",
       "    </tr>\n",
       "    <tr>\n",
       "      <th>2</th>\n",
       "      <td>-1.345959</td>\n",
       "      <td>0.332023</td>\n",
       "      <td>-1.356287</td>\n",
       "      <td>-1.280053</td>\n",
       "    </tr>\n",
       "    <tr>\n",
       "      <th>3</th>\n",
       "      <td>-1.466045</td>\n",
       "      <td>0.103261</td>\n",
       "      <td>-1.243066</td>\n",
       "      <td>-1.280053</td>\n",
       "    </tr>\n",
       "    <tr>\n",
       "      <th>4</th>\n",
       "      <td>-0.985703</td>\n",
       "      <td>1.247071</td>\n",
       "      <td>-1.299677</td>\n",
       "      <td>-1.280053</td>\n",
       "    </tr>\n",
       "  </tbody>\n",
       "</table>\n",
       "</div>"
      ],
      "text/plain": [
       "   Stage Spacing  Cluster Spacing  Sand per ft (# per ft)  \\\n",
       "0      -0.865617         1.018309               -1.299677   \n",
       "1      -1.105788        -0.125501               -1.299677   \n",
       "2      -1.345959         0.332023               -1.356287   \n",
       "3      -1.466045         0.103261               -1.243066   \n",
       "4      -0.985703         1.247071               -1.299677   \n",
       "\n",
       "   Water per ft (gal per ft)  \n",
       "0                  -1.280053  \n",
       "1                  -1.280053  \n",
       "2                  -1.280053  \n",
       "3                  -1.280053  \n",
       "4                  -1.280053  "
      ]
     },
     "execution_count": 8,
     "metadata": {},
     "output_type": "execute_result"
    }
   ],
   "source": [
    "scaled_features.head()"
   ]
  },
  {
   "cell_type": "code",
   "execution_count": 9,
   "metadata": {},
   "outputs": [
    {
     "data": {
      "text/plain": [
       "array([[-2.20401503,  0.49230415, -0.11615207],\n",
       "       [-2.01847823, -0.65257072, -0.23789563],\n",
       "       [-2.3001967 , -0.3263588 ,  0.04335486],\n",
       "       [-2.23481144, -0.5804819 ,  0.08681612],\n",
       "       [-2.32844843,  0.65610591,  0.02853254],\n",
       "       [-2.01570154,  1.4935046 ,  0.05422406],\n",
       "       [-2.37840516,  0.05716489,  0.33936909],\n",
       "       [-2.17148144,  0.23678942, -0.08080953],\n",
       "       [-2.26829929, -1.09568622,  0.13314502],\n",
       "       [-2.12311515, -0.44880128, -0.25552702],\n",
       "       [-2.10815144,  1.05406075, -0.24843519],\n",
       "       [-2.26338126,  0.14507647,  0.09921761],\n",
       "       [-2.15628491, -0.70709925, -0.23642193],\n",
       "       [-2.56671864, -0.94403556,  0.16899296],\n",
       "       [-2.14337646,  1.8671572 , -0.440417  ],\n",
       "       [-2.20456595,  2.68214851,  0.07377597],\n",
       "       [-2.14710823,  1.48793811,  0.02174918],\n",
       "       [-2.12858409,  0.50028039, -0.03167156],\n",
       "       [-1.84194759,  1.41483116, -0.34684947],\n",
       "       [-2.2819054 ,  1.13273419,  0.15263835],\n",
       "       [-1.85627512,  0.42578182, -0.40838893],\n",
       "       [-2.1444168 ,  0.93035638,  0.17838846],\n",
       "       [-2.7093581 ,  0.46433027,  0.3398745 ],\n",
       "       [-1.75505189,  0.09969964,  0.04418482],\n",
       "       [-2.16482624,  0.14925134,  0.12357377],\n",
       "       [-1.89039914, -0.60323518, -0.3076124 ],\n",
       "       [-1.9877679 ,  0.25413354,  0.0962702 ],\n",
       "       [-2.10878761,  0.54024806, -0.19398756],\n",
       "       [-2.07958163,  0.32850238, -0.26083668],\n",
       "       [-2.20164169, -0.32218393,  0.06771103],\n",
       "       [-2.07720828, -0.4859857 , -0.07697358],\n",
       "       [-1.77111659,  0.43895107, -0.25566536],\n",
       "       [-2.5565645 ,  1.79439615,  0.07391432],\n",
       "       [-2.38891566,  2.1509917 , -0.04885613],\n",
       "       [-2.12311515, -0.44880128, -0.25552702],\n",
       "       [-2.14592114, -0.18809356, -0.22262649],\n",
       "       [-1.98736373,  0.67712168, -0.46808763],\n",
       "       [-2.12311515, -0.44880128, -0.25552702],\n",
       "       [-2.36320862, -0.88672378,  0.1837567 ],\n",
       "       [-2.1091057 ,  0.28334171, -0.16676375],\n",
       "       [-2.22381151,  0.45233648,  0.04616393],\n",
       "       [-1.79099833, -2.30467365, -0.22882978],\n",
       "       [-2.48732394, -0.46601567,  0.30121749],\n",
       "       [-1.89896368,  0.48044009,  0.32396161],\n",
       "       [-2.07506777,  1.14627693,  0.26959374],\n",
       "       [-2.00542303, -0.69114676, -0.06746091],\n",
       "       [-2.32448466,  1.12614956,  0.07627656],\n",
       "       [-2.32972078, -0.37151947,  0.13742779],\n",
       "       [-2.17052719,  1.00750846, -0.16248098],\n",
       "       [-2.14227546,  0.02504374, -0.14765865],\n",
       "       [ 1.15657351,  0.88737397, -0.64378938],\n",
       "       [ 0.79204663,  0.61325324, -0.05982105],\n",
       "       [ 1.2973897 ,  0.64122712, -0.51584762],\n",
       "       [ 0.47406363, -1.72181448, -0.02436134],\n",
       "       [ 1.13550468, -0.18021908, -0.37257813],\n",
       "       [ 0.45278519, -0.5699815 ,  0.13797582],\n",
       "       [ 0.80874751,  0.7878145 ,  0.18558151],\n",
       "       [-0.41850301, -1.82444425,  0.23982175],\n",
       "       [ 0.9849609 ,  0.06073478, -0.56876295],\n",
       "       [ 0.08128503, -1.01347049,  0.54478466],\n",
       "       [-0.04219329, -2.61652494, -0.06481661],\n",
       "       [ 0.50572821, -0.04439118,  0.22813305],\n",
       "       [ 0.6217072 , -1.72333583, -0.76630432],\n",
       "       [ 0.78136479, -0.1626588 , -0.04639267],\n",
       "       [ 0.03268673, -0.41870434,  0.20959194],\n",
       "       [ 0.93294892,  0.53318818, -0.46901331],\n",
       "       [ 0.417156  , -0.17987318,  0.51035184],\n",
       "       [ 0.21951909, -0.7632785 , -0.29262519],\n",
       "       [ 1.28787173, -1.58339191, -0.4752166 ],\n",
       "       [ 0.22861051, -1.27189819, -0.1699345 ],\n",
       "       [ 0.80501574,  0.40859541,  0.64774769],\n",
       "       [ 0.5380298 , -0.39073046, -0.24643463],\n",
       "       [ 1.29548119, -0.90021096, -0.35250473],\n",
       "       [ 0.69256057, -0.38896535, -0.27408408],\n",
       "       [ 0.76165439, -0.03654467, -0.4212107 ],\n",
       "       [ 0.93263083,  0.27628183, -0.44178949],\n",
       "       [ 1.31290433, -0.04575521, -0.69868382],\n",
       "       [ 1.41840942,  0.3551126 , -0.22558986],\n",
       "       [ 0.72871663, -0.20401808,  0.1078046 ],\n",
       "       [ 0.02209097, -1.02853458, -0.3141137 ],\n",
       "       [ 0.19544075, -1.53019616, -0.1508294 ],\n",
       "       [ 0.08715814, -1.53956403, -0.24342863],\n",
       "       [ 0.30467762, -0.75010925, -0.13990162],\n",
       "       [ 1.12537292, -0.60840021,  0.12353664],\n",
       "       [ 0.29240451, -0.27297776,  0.68226026],\n",
       "       [ 0.49385928,  0.85572845,  0.48593709],\n",
       "       [ 1.10693487,  0.54533929, -0.36017664],\n",
       "       [ 1.10447627, -1.34382968, -0.67952015],\n",
       "       [ 0.13488744, -0.20139216,  0.30891594],\n",
       "       [ 0.34994831, -1.30110636,  0.09309945],\n",
       "       [ 0.34386641, -1.09316206,  0.09982422],\n",
       "       [ 0.68645546,  0.04630364,  0.004219  ],\n",
       "       [ 0.39958695, -0.95907169, -0.19051329],\n",
       "       [-0.29406961, -1.98824602,  0.09513714],\n",
       "       [ 0.35391208, -0.83106271,  0.14084347],\n",
       "       [ 0.15468392, -0.1614245 ,  0.14659995],\n",
       "       [ 0.29217251, -0.36380231,  0.17235006],\n",
       "       [ 0.6369029 , -0.12964925, -0.24930228],\n",
       "       [-0.37893326, -1.51718424,  0.18676806],\n",
       "       [ 0.3213785 , -0.57554799,  0.10550094],\n",
       "       [ 1.91469768,  0.87769182,  1.05144945],\n",
       "       [ 1.22691424, -0.67757605,  0.54888659],\n",
       "       [ 2.26530119,  0.58575135, -0.15841618],\n",
       "       [ 1.50350507, -0.02512463,  0.19268943],\n",
       "       [ 1.93362599,  0.31302224,  0.43367087],\n",
       "       [ 2.80714162,  0.82825415, -0.53135618],\n",
       "       [ 0.44167595, -1.54155699,  0.98734035],\n",
       "       [ 2.35722422,  0.45013962, -0.61002163],\n",
       "       [ 2.06694203, -0.67754846, -0.36981156],\n",
       "       [ 2.32275808,  1.92911621,  0.46217146],\n",
       "       [ 1.42868709,  0.7080365 ,  0.3253396 ],\n",
       "       [ 1.66687205, -0.39547907,  0.04939876],\n",
       "       [ 1.94676727,  0.44052799,  0.06697157],\n",
       "       [ 1.33123308, -1.13825183,  0.59374179],\n",
       "       [ 1.54201126, -0.42734076,  1.03001952],\n",
       "       [ 1.6583075 ,  0.6881962 ,  0.68097278],\n",
       "       [ 1.53334723,  0.27694238,  0.07139268],\n",
       "       [ 2.48133871,  2.56700676, -0.05486799],\n",
       "       [ 3.36716489,  0.05351757, -0.6589148 ],\n",
       "       [ 1.3273786 , -1.66953837, -0.26271457],\n",
       "       [ 2.10159291,  0.92652413,  0.28367661],\n",
       "       [ 1.04983269, -0.55513357,  0.84776847],\n",
       "       [ 2.95105342,  0.4475137 , -0.81113297],\n",
       "       [ 1.39765868, -0.4555741 ,  0.01839758],\n",
       "       [ 1.7639219 ,  1.02782112,  0.34535441],\n",
       "       [ 2.01012048,  1.03047463, -0.3722324 ],\n",
       "       [ 1.24037361, -0.29316396,  0.15496347],\n",
       "       [ 1.08673422,  0.08238349,  0.36649719],\n",
       "       [ 1.85423128, -0.16499766,  0.30144634],\n",
       "       [ 1.91767058,  0.59103078, -0.67489165],\n",
       "       [ 2.49138521,  0.29153085, -0.68646318],\n",
       "       [ 2.3566733 ,  2.63998398, -0.42009359],\n",
       "       [ 1.92966222, -0.15702141,  0.38592685],\n",
       "       [ 1.17501156, -0.26636554, -0.1600761 ],\n",
       "       [ 1.26320281, -0.78119636, -0.14951537],\n",
       "       [ 2.85612087,  0.88380081, -0.48894299],\n",
       "       [ 1.6458024 ,  1.07450314,  0.99322445],\n",
       "       [ 1.40891383,  0.44074415,  0.21607729],\n",
       "       [ 0.9915068 ,  0.03443958,  0.44433268],\n",
       "       [ 1.91423368,  0.69604271,  0.03162903],\n",
       "       [ 2.08147835,  0.62965012,  0.47321642],\n",
       "       [ 1.96654054,  0.70782034,  0.17623388],\n",
       "       [ 1.22691424, -0.67757605,  0.54888659],\n",
       "       [ 2.10492052,  0.88275509,  0.38586826]])"
      ]
     },
     "execution_count": 9,
     "metadata": {},
     "output_type": "execute_result"
    }
   ],
   "source": [
    "#b. Apply the PCA algorithm using the sklearn library with n_components=3.\n",
    "\n",
    "from sklearn.decomposition import PCA\n",
    "PCA= PCA(n_components=3)\n",
    "PCA.fit(scaled_features)\n",
    "Transformed_PCA=PCA.transform(scaled_features)\n",
    "Transformed_PCA"
   ]
  },
  {
   "cell_type": "code",
   "execution_count": 10,
   "metadata": {},
   "outputs": [
    {
     "name": "stdout",
     "output_type": "stream",
     "text": [
      "(144, 4)\n",
      "(144, 3)\n"
     ]
    }
   ],
   "source": [
    "print(scaled_features.shape) \n",
    "print(Transformed_PCA.shape)"
   ]
  },
  {
   "cell_type": "code",
   "execution_count": 11,
   "metadata": {},
   "outputs": [
    {
     "data": {
      "text/plain": [
       "array([[ 0.51942738, -0.27127608,  0.58031336,  0.56554477],\n",
       "       [ 0.38765923,  0.91953234,  0.02458254,  0.05980205],\n",
       "       [-0.71577455,  0.25673144,  0.14341439,  0.63339409]])"
      ]
     },
     "execution_count": 11,
     "metadata": {},
     "output_type": "execute_result"
    }
   ],
   "source": [
    "PCA.components_"
   ]
  },
  {
   "cell_type": "code",
   "execution_count": 12,
   "metadata": {},
   "outputs": [
    {
     "data": {
      "text/html": [
       "<div>\n",
       "<style scoped>\n",
       "    .dataframe tbody tr th:only-of-type {\n",
       "        vertical-align: middle;\n",
       "    }\n",
       "\n",
       "    .dataframe tbody tr th {\n",
       "        vertical-align: top;\n",
       "    }\n",
       "\n",
       "    .dataframe thead th {\n",
       "        text-align: right;\n",
       "    }\n",
       "</style>\n",
       "<table border=\"1\" class=\"dataframe\">\n",
       "  <thead>\n",
       "    <tr style=\"text-align: right;\">\n",
       "      <th></th>\n",
       "      <th>Stage Spacing</th>\n",
       "      <th>Cluster Spacing</th>\n",
       "      <th>Sand per ft (# per ft)</th>\n",
       "      <th>Water per ft (gal per ft)</th>\n",
       "    </tr>\n",
       "  </thead>\n",
       "  <tbody>\n",
       "    <tr>\n",
       "      <th>0</th>\n",
       "      <td>0.519427</td>\n",
       "      <td>-0.271276</td>\n",
       "      <td>0.580313</td>\n",
       "      <td>0.565545</td>\n",
       "    </tr>\n",
       "    <tr>\n",
       "      <th>1</th>\n",
       "      <td>0.387659</td>\n",
       "      <td>0.919532</td>\n",
       "      <td>0.024583</td>\n",
       "      <td>0.059802</td>\n",
       "    </tr>\n",
       "    <tr>\n",
       "      <th>2</th>\n",
       "      <td>-0.715775</td>\n",
       "      <td>0.256731</td>\n",
       "      <td>0.143414</td>\n",
       "      <td>0.633394</td>\n",
       "    </tr>\n",
       "  </tbody>\n",
       "</table>\n",
       "</div>"
      ],
      "text/plain": [
       "   Stage Spacing  Cluster Spacing  Sand per ft (# per ft)  \\\n",
       "0       0.519427        -0.271276                0.580313   \n",
       "1       0.387659         0.919532                0.024583   \n",
       "2      -0.715775         0.256731                0.143414   \n",
       "\n",
       "   Water per ft (gal per ft)  \n",
       "0                   0.565545  \n",
       "1                   0.059802  \n",
       "2                   0.633394  "
      ]
     },
     "execution_count": 12,
     "metadata": {},
     "output_type": "execute_result"
    }
   ],
   "source": [
    "df_components = pd.DataFrame(PCA.components_,columns=['Stage Spacing', 'Cluster Spacing', 'Sand per ft (# per ft)',\n",
    "       'Water per ft (gal per ft)'])\n",
    "df_components"
   ]
  },
  {
   "cell_type": "code",
   "execution_count": 13,
   "metadata": {},
   "outputs": [
    {
     "data": {
      "text/plain": [
       "<AxesSubplot:>"
      ]
     },
     "execution_count": 13,
     "metadata": {},
     "output_type": "execute_result"
    },
    {
     "data": {
      "image/png": "[encoded data removed]",
      "text/plain": [
       "<Figure size 1080x432 with 2 Axes>"
      ]
     },
     "metadata": {
      "needs_background": "light"
     },
     "output_type": "display_data"
    }
   ],
   "source": [
    "#c. Plot a heat map of new vs. old features.\n",
    "\n",
    "plt.figure(figsize=(15,6))\n",
    "sns.heatmap(df_components,cmap='coolwarm')"
   ]
  },
  {
   "cell_type": "code",
   "execution_count": 14,
   "metadata": {},
   "outputs": [],
   "source": [
    "#d. Write the data based on the new features into a csv file: 'Three Principal Components.csv'.\n",
    "\n",
    "transformed_PCA= pd.DataFrame(Transformed_PCA, columns=['First Principal Component', 'Second Principal Component',\"Third Principal Component\"])\n",
    "transformed_PCA.to_csv('Three Principal Components.csv')"
   ]
  },
  {
   "cell_type": "markdown",
   "metadata": {},
   "source": [
    "### 2. Import the Completions Data Set from the provided ‘Completions_DataSet.xlsx’ file and\n",
    "### perform the following (4 points):\n",
    "### a. Apply normal scaling in range [0,1] on the data using the sklearn library.\n",
    "### b. Apply the NMF algorithm using the sklearn library with n_components=3.\n",
    "### c. Plot a heat map of new vs. old features."
   ]
  },
  {
   "cell_type": "code",
   "execution_count": 15,
   "metadata": {},
   "outputs": [
    {
     "name": "stdout",
     "output_type": "stream",
     "text": [
      "[[0.22222222 0.625      0.06779661 0.04166667]\n",
      " [0.16666667 0.41666667 0.06779661 0.04166667]\n",
      " [0.11111111 0.5        0.05084746 0.04166667]\n",
      " [0.08333333 0.45833333 0.08474576 0.04166667]\n",
      " [0.19444444 0.66666667 0.06779661 0.04166667]\n",
      " [0.30555556 0.79166667 0.11864407 0.125     ]\n",
      " [0.08333333 0.58333333 0.06779661 0.08333333]\n",
      " [0.19444444 0.58333333 0.08474576 0.04166667]\n",
      " [0.02777778 0.375      0.06779661 0.04166667]\n",
      " [0.16666667 0.45833333 0.08474576 0.        ]\n",
      " [0.30555556 0.70833333 0.08474576 0.04166667]\n",
      " [0.13888889 0.58333333 0.10169492 0.04166667]\n",
      " [0.13888889 0.41666667 0.06779661 0.        ]\n",
      " [0.         0.41666667 0.01694915 0.        ]\n",
      " [0.41666667 0.83333333 0.03389831 0.04166667]\n",
      " [0.38888889 1.         0.08474576 0.125     ]\n",
      " [0.30555556 0.79166667 0.05084746 0.125     ]\n",
      " [0.22222222 0.625      0.06779661 0.08333333]\n",
      " [0.38888889 0.75       0.11864407 0.08333333]\n",
      " [0.22222222 0.75       0.08474576 0.08333333]\n",
      " [0.30555556 0.58333333 0.11864407 0.04166667]\n",
      " [0.22222222 0.70833333 0.08474576 0.125     ]\n",
      " [0.08333333 0.66666667 0.         0.04166667]\n",
      " [0.22222222 0.54166667 0.11864407 0.16666667]\n",
      " [0.13888889 0.58333333 0.15254237 0.04166667]\n",
      " [0.19444444 0.41666667 0.10169492 0.04166667]\n",
      " [0.19444444 0.58333333 0.10169492 0.125     ]\n",
      " [0.25       0.625      0.08474576 0.04166667]\n",
      " [0.25       0.58333333 0.06779661 0.04166667]\n",
      " [0.11111111 0.5        0.10169492 0.04166667]\n",
      " [0.13888889 0.45833333 0.10169492 0.04166667]\n",
      " [0.30555556 0.58333333 0.08474576 0.125     ]\n",
      " [0.25       0.875      0.08474576 0.        ]\n",
      " [0.33333333 0.91666667 0.06779661 0.04166667]\n",
      " [0.16666667 0.45833333 0.08474576 0.        ]\n",
      " [0.19444444 0.5        0.03389831 0.04166667]\n",
      " [0.33333333 0.625      0.05084746 0.04166667]\n",
      " [0.16666667 0.45833333 0.08474576 0.        ]\n",
      " [0.02777778 0.41666667 0.05084746 0.04166667]\n",
      " [0.22222222 0.58333333 0.08474576 0.04166667]\n",
      " [0.19444444 0.625      0.05084746 0.08333333]\n",
      " [0.05555556 0.125      0.05084746 0.08333333]\n",
      " [0.02777778 0.5        0.05084746 0.04166667]\n",
      " [0.19444444 0.625      0.10169492 0.20833333]\n",
      " [0.22222222 0.75       0.15254237 0.125     ]\n",
      " [0.13888889 0.41666667 0.06779661 0.08333333]\n",
      " [0.22222222 0.75       0.10169492 0.04166667]\n",
      " [0.08333333 0.5        0.06779661 0.04166667]\n",
      " [0.27777778 0.70833333 0.08474576 0.04166667]\n",
      " [0.19444444 0.54166667 0.06779661 0.04166667]\n",
      " [0.75       0.5        0.62711864 0.54166667]\n",
      " [0.58333333 0.5        0.59322034 0.58333333]\n",
      " [0.72222222 0.45833333 0.66101695 0.58333333]\n",
      " [0.33333333 0.125      0.50847458 0.5       ]\n",
      " [0.61111111 0.33333333 0.61016949 0.58333333]\n",
      " [0.38888889 0.33333333 0.59322034 0.5       ]\n",
      " [0.55555556 0.54166667 0.62711864 0.625     ]\n",
      " [0.16666667 0.16666667 0.38983051 0.375     ]\n",
      " [0.63888889 0.375      0.61016949 0.5       ]\n",
      " [0.25       0.29166667 0.49152542 0.54166667]\n",
      " [0.19444444 0.         0.42372881 0.375     ]\n",
      " [0.44444444 0.41666667 0.54237288 0.58333333]\n",
      " [0.47222222 0.08333333 0.50847458 0.375     ]\n",
      " [0.5        0.375      0.62711864 0.54166667]\n",
      " [0.36111111 0.375      0.44067797 0.5       ]\n",
      " [0.66666667 0.45833333 0.57627119 0.54166667]\n",
      " [0.36111111 0.41666667 0.59322034 0.58333333]\n",
      " [0.41666667 0.29166667 0.52542373 0.375     ]\n",
      " [0.52777778 0.08333333 0.59322034 0.58333333]\n",
      " [0.36111111 0.20833333 0.49152542 0.41666667]\n",
      " [0.44444444 0.5        0.6440678  0.70833333]\n",
      " [0.5        0.33333333 0.50847458 0.5       ]\n",
      " [0.55555556 0.20833333 0.66101695 0.58333333]\n",
      " [0.5        0.33333333 0.62711864 0.45833333]\n",
      " [0.58333333 0.375      0.55932203 0.5       ]\n",
      " [0.63888889 0.41666667 0.57627119 0.54166667]\n",
      " [0.69444444 0.33333333 0.6440678  0.54166667]\n",
      " [0.66666667 0.41666667 0.6779661  0.66666667]\n",
      " [0.47222222 0.375      0.59322034 0.58333333]\n",
      " [0.38888889 0.25       0.42372881 0.375     ]\n",
      " [0.33333333 0.16666667 0.47457627 0.41666667]\n",
      " [0.33333333 0.16666667 0.45762712 0.375     ]\n",
      " [0.41666667 0.29166667 0.49152542 0.45833333]\n",
      " [0.47222222 0.29166667 0.69491525 0.625     ]\n",
      " [0.30555556 0.41666667 0.59322034 0.58333333]\n",
      " [0.47222222 0.58333333 0.59322034 0.625     ]\n",
      " [0.66666667 0.45833333 0.62711864 0.58333333]\n",
      " [0.55555556 0.125      0.57627119 0.5       ]\n",
      " [0.36111111 0.41666667 0.52542373 0.5       ]\n",
      " [0.33333333 0.20833333 0.50847458 0.5       ]\n",
      " [0.33333333 0.25       0.57627119 0.45833333]\n",
      " [0.5        0.41666667 0.61016949 0.54166667]\n",
      " [0.41666667 0.25       0.50847458 0.45833333]\n",
      " [0.19444444 0.125      0.38983051 0.375     ]\n",
      " [0.36111111 0.29166667 0.54237288 0.5       ]\n",
      " [0.38888889 0.41666667 0.54237288 0.45833333]\n",
      " [0.38888889 0.375      0.54237288 0.5       ]\n",
      " [0.52777778 0.375      0.55932203 0.5       ]\n",
      " [0.22222222 0.20833333 0.33898305 0.41666667]\n",
      " [0.38888889 0.33333333 0.52542373 0.5       ]\n",
      " [0.55555556 0.54166667 0.84745763 1.        ]\n",
      " [0.41666667 0.29166667 0.69491525 0.75      ]\n",
      " [0.77777778 0.41666667 0.83050847 0.83333333]\n",
      " [0.55555556 0.375      0.77966102 0.70833333]\n",
      " [0.61111111 0.41666667 0.81355932 0.875     ]\n",
      " [0.91666667 0.41666667 0.94915254 0.83333333]\n",
      " [0.16666667 0.20833333 0.59322034 0.66666667]\n",
      " [0.83333333 0.375      0.89830508 0.70833333]\n",
      " [0.66666667 0.20833333 0.81355932 0.70833333]\n",
      " [0.80555556 0.66666667 0.86440678 1.        ]\n",
      " [0.61111111 0.5        0.69491525 0.79166667]\n",
      " [0.58333333 0.29166667 0.72881356 0.75      ]\n",
      " [0.69444444 0.41666667 0.76271186 0.83333333]\n",
      " [0.38888889 0.20833333 0.6779661  0.79166667]\n",
      " [0.41666667 0.33333333 0.69491525 0.95833333]\n",
      " [0.58333333 0.5        0.72881356 0.91666667]\n",
      " [0.61111111 0.41666667 0.76271186 0.70833333]\n",
      " [0.94444444 0.75       0.96610169 0.875     ]\n",
      " [0.94444444 0.25       1.         0.91666667]\n",
      " [0.47222222 0.08333333 0.6779661  0.58333333]\n",
      " [0.72222222 0.5        0.79661017 0.91666667]\n",
      " [0.36111111 0.33333333 0.66101695 0.79166667]\n",
      " [0.94444444 0.33333333 0.96610169 0.79166667]\n",
      " [0.55555556 0.29166667 0.66101695 0.70833333]\n",
      " [0.66666667 0.54166667 0.79661017 0.83333333]\n",
      " [0.80555556 0.5        0.84745763 0.70833333]\n",
      " [0.52777778 0.33333333 0.6440678  0.70833333]\n",
      " [0.5        0.41666667 0.66101695 0.70833333]\n",
      " [0.58333333 0.33333333 0.77966102 0.83333333]\n",
      " [0.80555556 0.41666667 0.81355932 0.625     ]\n",
      " [0.86111111 0.33333333 0.86440678 0.75      ]\n",
      " [1.         0.75       0.91525424 0.79166667]\n",
      " [0.58333333 0.33333333 0.77966102 0.875     ]\n",
      " [0.55555556 0.33333333 0.69491525 0.58333333]\n",
      " [0.5        0.25       0.77966102 0.54166667]\n",
      " [0.94444444 0.41666667 0.86440678 0.91666667]\n",
      " [0.55555556 0.58333333 0.77966102 0.95833333]\n",
      " [0.58333333 0.45833333 0.76271186 0.70833333]\n",
      " [0.47222222 0.41666667 0.6440678  0.70833333]\n",
      " [0.72222222 0.45833333 0.74576271 0.83333333]\n",
      " [0.66666667 0.45833333 0.77966102 0.95833333]\n",
      " [0.72222222 0.45833333 0.69491525 0.91666667]\n",
      " [0.41666667 0.29166667 0.69491525 0.75      ]\n",
      " [0.69444444 0.5        0.83050847 0.91666667]]\n"
     ]
    }
   ],
   "source": [
    "#a. Apply normal scaling in range [0,1] on the data using the sklearn library.\n",
    "\n",
    "from sklearn import preprocessing\n",
    "scaler2= preprocessing.MinMaxScaler(feature_range=(0,1))\n",
    "scaler2.fit(df)\n",
    "df_scaled2 = scaler2.transform(df)\n",
    "print(df_scaled2)"
   ]
  },
  {
   "cell_type": "code",
   "execution_count": 16,
   "metadata": {},
   "outputs": [
    {
     "data": {
      "text/plain": [
       "Index(['Stage Spacing', 'Cluster Spacing', 'Sand per ft (# per ft)',\n",
       "       'Water per ft (gal per ft)'],\n",
       "      dtype='object')"
      ]
     },
     "execution_count": 16,
     "metadata": {},
     "output_type": "execute_result"
    }
   ],
   "source": [
    "df.columns"
   ]
  },
  {
   "cell_type": "code",
   "execution_count": 17,
   "metadata": {},
   "outputs": [],
   "source": [
    "df_scaled2 = pd.DataFrame(df_scaled2, columns=['Stage Spacing', 'Cluster Spacing', 'Sand per ft (# per ft)',\n",
    "       'Water per ft (gal per ft)'])"
   ]
  },
  {
   "cell_type": "code",
   "execution_count": 18,
   "metadata": {},
   "outputs": [
    {
     "data": {
      "text/html": [
       "<div>\n",
       "<style scoped>\n",
       "    .dataframe tbody tr th:only-of-type {\n",
       "        vertical-align: middle;\n",
       "    }\n",
       "\n",
       "    .dataframe tbody tr th {\n",
       "        vertical-align: top;\n",
       "    }\n",
       "\n",
       "    .dataframe thead th {\n",
       "        text-align: right;\n",
       "    }\n",
       "</style>\n",
       "<table border=\"1\" class=\"dataframe\">\n",
       "  <thead>\n",
       "    <tr style=\"text-align: right;\">\n",
       "      <th></th>\n",
       "      <th>Stage Spacing</th>\n",
       "      <th>Cluster Spacing</th>\n",
       "      <th>Sand per ft (# per ft)</th>\n",
       "      <th>Water per ft (gal per ft)</th>\n",
       "    </tr>\n",
       "  </thead>\n",
       "  <tbody>\n",
       "    <tr>\n",
       "      <th>0</th>\n",
       "      <td>0.222222</td>\n",
       "      <td>0.625000</td>\n",
       "      <td>0.067797</td>\n",
       "      <td>0.041667</td>\n",
       "    </tr>\n",
       "    <tr>\n",
       "      <th>1</th>\n",
       "      <td>0.166667</td>\n",
       "      <td>0.416667</td>\n",
       "      <td>0.067797</td>\n",
       "      <td>0.041667</td>\n",
       "    </tr>\n",
       "    <tr>\n",
       "      <th>2</th>\n",
       "      <td>0.111111</td>\n",
       "      <td>0.500000</td>\n",
       "      <td>0.050847</td>\n",
       "      <td>0.041667</td>\n",
       "    </tr>\n",
       "    <tr>\n",
       "      <th>3</th>\n",
       "      <td>0.083333</td>\n",
       "      <td>0.458333</td>\n",
       "      <td>0.084746</td>\n",
       "      <td>0.041667</td>\n",
       "    </tr>\n",
       "    <tr>\n",
       "      <th>4</th>\n",
       "      <td>0.194444</td>\n",
       "      <td>0.666667</td>\n",
       "      <td>0.067797</td>\n",
       "      <td>0.041667</td>\n",
       "    </tr>\n",
       "    <tr>\n",
       "      <th>...</th>\n",
       "      <td>...</td>\n",
       "      <td>...</td>\n",
       "      <td>...</td>\n",
       "      <td>...</td>\n",
       "    </tr>\n",
       "    <tr>\n",
       "      <th>139</th>\n",
       "      <td>0.722222</td>\n",
       "      <td>0.458333</td>\n",
       "      <td>0.745763</td>\n",
       "      <td>0.833333</td>\n",
       "    </tr>\n",
       "    <tr>\n",
       "      <th>140</th>\n",
       "      <td>0.666667</td>\n",
       "      <td>0.458333</td>\n",
       "      <td>0.779661</td>\n",
       "      <td>0.958333</td>\n",
       "    </tr>\n",
       "    <tr>\n",
       "      <th>141</th>\n",
       "      <td>0.722222</td>\n",
       "      <td>0.458333</td>\n",
       "      <td>0.694915</td>\n",
       "      <td>0.916667</td>\n",
       "    </tr>\n",
       "    <tr>\n",
       "      <th>142</th>\n",
       "      <td>0.416667</td>\n",
       "      <td>0.291667</td>\n",
       "      <td>0.694915</td>\n",
       "      <td>0.750000</td>\n",
       "    </tr>\n",
       "    <tr>\n",
       "      <th>143</th>\n",
       "      <td>0.694444</td>\n",
       "      <td>0.500000</td>\n",
       "      <td>0.830508</td>\n",
       "      <td>0.916667</td>\n",
       "    </tr>\n",
       "  </tbody>\n",
       "</table>\n",
       "<p>144 rows × 4 columns</p>\n",
       "</div>"
      ],
      "text/plain": [
       "     Stage Spacing  Cluster Spacing  Sand per ft (# per ft)  \\\n",
       "0         0.222222         0.625000                0.067797   \n",
       "1         0.166667         0.416667                0.067797   \n",
       "2         0.111111         0.500000                0.050847   \n",
       "3         0.083333         0.458333                0.084746   \n",
       "4         0.194444         0.666667                0.067797   \n",
       "..             ...              ...                     ...   \n",
       "139       0.722222         0.458333                0.745763   \n",
       "140       0.666667         0.458333                0.779661   \n",
       "141       0.722222         0.458333                0.694915   \n",
       "142       0.416667         0.291667                0.694915   \n",
       "143       0.694444         0.500000                0.830508   \n",
       "\n",
       "     Water per ft (gal per ft)  \n",
       "0                     0.041667  \n",
       "1                     0.041667  \n",
       "2                     0.041667  \n",
       "3                     0.041667  \n",
       "4                     0.041667  \n",
       "..                         ...  \n",
       "139                   0.833333  \n",
       "140                   0.958333  \n",
       "141                   0.916667  \n",
       "142                   0.750000  \n",
       "143                   0.916667  \n",
       "\n",
       "[144 rows x 4 columns]"
      ]
     },
     "execution_count": 18,
     "metadata": {},
     "output_type": "execute_result"
    }
   ],
   "source": [
    "df_scaled2"
   ]
  },
  {
   "cell_type": "code",
   "execution_count": 19,
   "metadata": {},
   "outputs": [],
   "source": [
    "# b. Apply the NMF algorithm using the sklearn library with n_components=3.\n",
    "\n",
    "from sklearn.decomposition import NMF\n",
    "nmf = NMF(n_components=3, init=None, solver='cd',beta_loss='frobenius',random_state=100,max_iter=10000)\n",
    "nmf_transformed=nmf.fit_transform(df_scaled2)\n"
   ]
  },
  {
   "cell_type": "code",
   "execution_count": 20,
   "metadata": {},
   "outputs": [
    {
     "data": {
      "text/plain": [
       "array([[0.        , 0.        , 1.62788437, 2.33299209],\n",
       "       [0.33733979, 2.51191393, 0.        , 0.10462379],\n",
       "       [2.36154188, 0.00254833, 1.00273909, 0.        ]])"
      ]
     },
     "execution_count": 20,
     "metadata": {},
     "output_type": "execute_result"
    }
   ],
   "source": [
    "nmf.components_"
   ]
  },
  {
   "cell_type": "code",
   "execution_count": 21,
   "metadata": {},
   "outputs": [
    {
     "data": {
      "text/html": [
       "<div>\n",
       "<style scoped>\n",
       "    .dataframe tbody tr th:only-of-type {\n",
       "        vertical-align: middle;\n",
       "    }\n",
       "\n",
       "    .dataframe tbody tr th {\n",
       "        vertical-align: top;\n",
       "    }\n",
       "\n",
       "    .dataframe thead th {\n",
       "        text-align: right;\n",
       "    }\n",
       "</style>\n",
       "<table border=\"1\" class=\"dataframe\">\n",
       "  <thead>\n",
       "    <tr style=\"text-align: right;\">\n",
       "      <th></th>\n",
       "      <th>Stage Spacing</th>\n",
       "      <th>Cluster Spacing</th>\n",
       "      <th>Sand per ft (# per ft)</th>\n",
       "      <th>Water per ft (gal per ft)</th>\n",
       "    </tr>\n",
       "  </thead>\n",
       "  <tbody>\n",
       "    <tr>\n",
       "      <th>0</th>\n",
       "      <td>0.0000</td>\n",
       "      <td>0.0000</td>\n",
       "      <td>1.6279</td>\n",
       "      <td>2.3330</td>\n",
       "    </tr>\n",
       "    <tr>\n",
       "      <th>1</th>\n",
       "      <td>0.3373</td>\n",
       "      <td>2.5119</td>\n",
       "      <td>0.0000</td>\n",
       "      <td>0.1046</td>\n",
       "    </tr>\n",
       "    <tr>\n",
       "      <th>2</th>\n",
       "      <td>2.3615</td>\n",
       "      <td>0.0025</td>\n",
       "      <td>1.0027</td>\n",
       "      <td>0.0000</td>\n",
       "    </tr>\n",
       "  </tbody>\n",
       "</table>\n",
       "</div>"
      ],
      "text/plain": [
       "   Stage Spacing  Cluster Spacing  Sand per ft (# per ft)  \\\n",
       "0         0.0000           0.0000                  1.6279   \n",
       "1         0.3373           2.5119                  0.0000   \n",
       "2         2.3615           0.0025                  1.0027   \n",
       "\n",
       "   Water per ft (gal per ft)  \n",
       "0                     2.3330  \n",
       "1                     0.1046  \n",
       "2                     0.0000  "
      ]
     },
     "execution_count": 21,
     "metadata": {},
     "output_type": "execute_result"
    }
   ],
   "source": [
    "df_scaled_components = pd.DataFrame(np.round(nmf.components_,4), columns=df_scaled2.columns)\n",
    "df_scaled_components"
   ]
  },
  {
   "cell_type": "code",
   "execution_count": 22,
   "metadata": {},
   "outputs": [
    {
     "data": {
      "text/plain": [
       "<AxesSubplot:>"
      ]
     },
     "execution_count": 22,
     "metadata": {},
     "output_type": "execute_result"
    },
    {
     "data": {
      "image/png": "[encoded data removed]",
      "text/plain": [
       "<Figure size 1080x432 with 2 Axes>"
      ]
     },
     "metadata": {
      "needs_background": "light"
     },
     "output_type": "display_data"
    }
   ],
   "source": [
    "# c. Plot a heat map of new vs. old features.\n",
    "\n",
    "plt.figure(figsize=(15,6))\n",
    "sns.heatmap(df_scaled_components,cmap='coolwarm')"
   ]
  },
  {
   "cell_type": "code",
   "execution_count": null,
   "metadata": {},
   "outputs": [],
   "source": []
  }
 ],
 "metadata": {
  "kernelspec": {
   "display_name": "Python 3",
   "language": "python",
   "name": "python3"
  },
  "language_info": {
   "codemirror_mode": {
    "name": "ipython",
    "version": 3
   },
   "file_extension": ".py",
   "mimetype": "text/x-python",
   "name": "python",
   "nbconvert_exporter": "python",
   "pygments_lexer": "ipython3",
   "version": "3.8.5"
  }
 },
 "nbformat": 4,
 "nbformat_minor": 4
}
