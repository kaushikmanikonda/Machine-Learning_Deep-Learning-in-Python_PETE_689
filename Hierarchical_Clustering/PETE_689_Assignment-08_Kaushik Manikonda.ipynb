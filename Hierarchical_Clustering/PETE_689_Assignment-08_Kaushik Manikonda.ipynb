{
 "cells": [
  {
   "cell_type": "code",
   "execution_count": 1,
   "metadata": {},
   "outputs": [],
   "source": [
    "import pandas as pd\n",
    "from scipy import stats\n",
    "from sklearn.cluster import KMeans\n",
    "import matplotlib.pyplot as plt\n",
    "import seaborn as sns\n",
    "import pandas as pd\n",
    "from sklearn import preprocessing\n",
    "import pylab as pl\n",
    "import numpy as np\n",
    "%matplotlib inline"
   ]
  },
  {
   "cell_type": "markdown",
   "metadata": {},
   "source": [
    "### 1. Import the GIP EUR Data Set from the provided ‘GIP_EUR_DataSet.xlsx’ file and\n",
    "### perform the following (6 points):\n",
    "### a. Apply standard scaling on the data using the sklearn library.\n",
    "### b. Plot the dendogram for this dataset using the sklearn library. Draw a horizontal plot at distance = 4.\n",
    "### c. Apply the hierarchical clustering algorithm using the sklearn library with number of clusters = 8.\n",
    "### d. Plot the variation of silhouette coefficients with clusters clearly indicating the\n",
    "### average silhouette coefficient for all the clusters.\n",
    "### e. Convert the dataset to the original scale and export the data as a .csv file."
   ]
  },
  {
   "cell_type": "code",
   "execution_count": 2,
   "metadata": {},
   "outputs": [
    {
     "data": {
      "text/html": [
       "<div>\n",
       "<style scoped>\n",
       "    .dataframe tbody tr th:only-of-type {\n",
       "        vertical-align: middle;\n",
       "    }\n",
       "\n",
       "    .dataframe tbody tr th {\n",
       "        vertical-align: top;\n",
       "    }\n",
       "\n",
       "    .dataframe thead th {\n",
       "        text-align: right;\n",
       "    }\n",
       "</style>\n",
       "<table border=\"1\" class=\"dataframe\">\n",
       "  <thead>\n",
       "    <tr style=\"text-align: right;\">\n",
       "      <th></th>\n",
       "      <th>GIP (BCFperSection)</th>\n",
       "      <th>EURper1000ft</th>\n",
       "    </tr>\n",
       "  </thead>\n",
       "  <tbody>\n",
       "    <tr>\n",
       "      <th>count</th>\n",
       "      <td>200.00000</td>\n",
       "      <td>200.000000</td>\n",
       "    </tr>\n",
       "    <tr>\n",
       "      <th>mean</th>\n",
       "      <td>199.84800</td>\n",
       "      <td>2.201754</td>\n",
       "    </tr>\n",
       "    <tr>\n",
       "      <th>std</th>\n",
       "      <td>86.67358</td>\n",
       "      <td>1.132611</td>\n",
       "    </tr>\n",
       "    <tr>\n",
       "      <th>min</th>\n",
       "      <td>49.50000</td>\n",
       "      <td>0.043860</td>\n",
       "    </tr>\n",
       "    <tr>\n",
       "      <th>25%</th>\n",
       "      <td>136.95000</td>\n",
       "      <td>1.524123</td>\n",
       "    </tr>\n",
       "    <tr>\n",
       "      <th>50%</th>\n",
       "      <td>202.95000</td>\n",
       "      <td>2.192982</td>\n",
       "    </tr>\n",
       "    <tr>\n",
       "      <th>75%</th>\n",
       "      <td>257.40000</td>\n",
       "      <td>3.201754</td>\n",
       "    </tr>\n",
       "    <tr>\n",
       "      <th>max</th>\n",
       "      <td>452.10000</td>\n",
       "      <td>4.342105</td>\n",
       "    </tr>\n",
       "  </tbody>\n",
       "</table>\n",
       "</div>"
      ],
      "text/plain": [
       "       GIP (BCFperSection)  EURper1000ft\n",
       "count            200.00000    200.000000\n",
       "mean             199.84800      2.201754\n",
       "std               86.67358      1.132611\n",
       "min               49.50000      0.043860\n",
       "25%              136.95000      1.524123\n",
       "50%              202.95000      2.192982\n",
       "75%              257.40000      3.201754\n",
       "max              452.10000      4.342105"
      ]
     },
     "execution_count": 2,
     "metadata": {},
     "output_type": "execute_result"
    }
   ],
   "source": [
    "df = pd.read_excel('GIP_EUR_DataSet.xlsx')\n",
    "df.describe()"
   ]
  },
  {
   "cell_type": "code",
   "execution_count": 3,
   "metadata": {},
   "outputs": [],
   "source": [
    "### a. Apply standard scaling on the data using the sklearn library.\n",
    "\n",
    "from sklearn.preprocessing import StandardScaler\n",
    "scaler=StandardScaler()\n",
    "df_scaled=scaler.fit(df)\n",
    "df_scaled=scaler.transform(df)"
   ]
  },
  {
   "cell_type": "code",
   "execution_count": 4,
   "metadata": {},
   "outputs": [
    {
     "data": {
      "text/plain": [
       "<matplotlib.lines.Line2D at 0x1b93c0e35e0>"
      ]
     },
     "execution_count": 4,
     "metadata": {},
     "output_type": "execute_result"
    },
    {
     "data": {
      "image/png": "[encoded data removed]",
      "text/plain": [
       "<Figure size 1080x720 with 1 Axes>"
      ]
     },
     "metadata": {
      "needs_background": "light"
     },
     "output_type": "display_data"
    }
   ],
   "source": [
    "### b. Plot the dendogram for this dataset using the sklearn library. Draw a horizontal plot at distance = 4.\n",
    "\n",
    "import scipy.cluster.hierarchy as shc   \n",
    "plt.figure(figsize=(15, 10))\n",
    "dend = shc.dendrogram(shc.linkage(df_scaled, method='ward'))\n",
    "plt.xlabel('Samples')\n",
    "plt.ylabel('Distance')\n",
    "plt.title(\"Dendrogram\") \n",
    "plt.axhline(y=4, color='k', linestyle='--')"
   ]
  },
  {
   "cell_type": "code",
   "execution_count": 5,
   "metadata": {},
   "outputs": [
    {
     "data": {
      "text/plain": [
       "array([0, 3, 0, 3, 0, 3, 0, 3, 0, 3, 0, 3, 0, 3, 0, 3, 0, 3, 0, 3, 0, 3,\n",
       "       0, 3, 0, 3, 0, 3, 0, 3, 0, 3, 0, 3, 0, 3, 0, 3, 0, 3, 0, 3, 0, 7,\n",
       "       0, 7, 7, 7, 7, 7, 7, 7, 7, 7, 7, 7, 7, 7, 7, 7, 7, 7, 7, 7, 7, 7,\n",
       "       7, 7, 7, 7, 7, 7, 7, 7, 7, 1, 1, 7, 1, 7, 1, 1, 7, 7, 1, 7, 1, 1,\n",
       "       1, 1, 1, 1, 1, 1, 1, 1, 1, 1, 1, 1, 1, 1, 1, 1, 1, 1, 1, 1, 1, 1,\n",
       "       1, 1, 1, 1, 1, 1, 1, 1, 1, 1, 1, 1, 1, 2, 1, 2, 1, 2, 5, 2, 5, 2,\n",
       "       1, 2, 5, 2, 5, 2, 5, 2, 5, 2, 1, 2, 5, 2, 1, 2, 5, 2, 5, 2, 5, 2,\n",
       "       5, 2, 5, 2, 5, 2, 1, 2, 5, 2, 5, 2, 5, 2, 5, 2, 5, 2, 5, 2, 5, 2,\n",
       "       5, 2, 5, 6, 4, 6, 5, 6, 4, 6, 4, 2, 4, 6, 4, 2, 4, 6, 4, 6, 4, 6,\n",
       "       4, 6], dtype=int64)"
      ]
     },
     "execution_count": 5,
     "metadata": {},
     "output_type": "execute_result"
    }
   ],
   "source": [
    "### c. Apply the hierarchical clustering algorithm using the sklearn library with number of clusters = 8.\n",
    "\n",
    "from sklearn.cluster import AgglomerativeClustering\n",
    "HC = AgglomerativeClustering(n_clusters=8, affinity='euclidean', linkage='ward')  \n",
    "HC=HC.fit_predict(df_scaled)\n",
    "HC"
   ]
  },
  {
   "cell_type": "code",
   "execution_count": 6,
   "metadata": {},
   "outputs": [
    {
     "data": {
      "text/html": [
       "<div>\n",
       "<style scoped>\n",
       "    .dataframe tbody tr th:only-of-type {\n",
       "        vertical-align: middle;\n",
       "    }\n",
       "\n",
       "    .dataframe tbody tr th {\n",
       "        vertical-align: top;\n",
       "    }\n",
       "\n",
       "    .dataframe thead th {\n",
       "        text-align: right;\n",
       "    }\n",
       "</style>\n",
       "<table border=\"1\" class=\"dataframe\">\n",
       "  <thead>\n",
       "    <tr style=\"text-align: right;\">\n",
       "      <th></th>\n",
       "      <th>GIP (BCFperSection)</th>\n",
       "      <th>EURper1000ft</th>\n",
       "      <th>Cluster</th>\n",
       "    </tr>\n",
       "  </thead>\n",
       "  <tbody>\n",
       "    <tr>\n",
       "      <th>0</th>\n",
       "      <td>-1.738999</td>\n",
       "      <td>-0.434801</td>\n",
       "      <td>0</td>\n",
       "    </tr>\n",
       "    <tr>\n",
       "      <th>1</th>\n",
       "      <td>-1.738999</td>\n",
       "      <td>1.195704</td>\n",
       "      <td>3</td>\n",
       "    </tr>\n",
       "    <tr>\n",
       "      <th>2</th>\n",
       "      <td>-1.700830</td>\n",
       "      <td>-1.715913</td>\n",
       "      <td>0</td>\n",
       "    </tr>\n",
       "    <tr>\n",
       "      <th>3</th>\n",
       "      <td>-1.700830</td>\n",
       "      <td>1.040418</td>\n",
       "      <td>3</td>\n",
       "    </tr>\n",
       "    <tr>\n",
       "      <th>4</th>\n",
       "      <td>-1.662660</td>\n",
       "      <td>-0.395980</td>\n",
       "      <td>0</td>\n",
       "    </tr>\n",
       "    <tr>\n",
       "      <th>...</th>\n",
       "      <td>...</td>\n",
       "      <td>...</td>\n",
       "      <td>...</td>\n",
       "    </tr>\n",
       "    <tr>\n",
       "      <th>195</th>\n",
       "      <td>2.268791</td>\n",
       "      <td>1.118061</td>\n",
       "      <td>6</td>\n",
       "    </tr>\n",
       "    <tr>\n",
       "      <th>196</th>\n",
       "      <td>2.497807</td>\n",
       "      <td>-0.861839</td>\n",
       "      <td>4</td>\n",
       "    </tr>\n",
       "    <tr>\n",
       "      <th>197</th>\n",
       "      <td>2.497807</td>\n",
       "      <td>0.923953</td>\n",
       "      <td>6</td>\n",
       "    </tr>\n",
       "    <tr>\n",
       "      <th>198</th>\n",
       "      <td>2.917671</td>\n",
       "      <td>-1.250054</td>\n",
       "      <td>4</td>\n",
       "    </tr>\n",
       "    <tr>\n",
       "      <th>199</th>\n",
       "      <td>2.917671</td>\n",
       "      <td>1.273347</td>\n",
       "      <td>6</td>\n",
       "    </tr>\n",
       "  </tbody>\n",
       "</table>\n",
       "<p>200 rows × 3 columns</p>\n",
       "</div>"
      ],
      "text/plain": [
       "     GIP (BCFperSection)  EURper1000ft  Cluster\n",
       "0              -1.738999     -0.434801        0\n",
       "1              -1.738999      1.195704        3\n",
       "2              -1.700830     -1.715913        0\n",
       "3              -1.700830      1.040418        3\n",
       "4              -1.662660     -0.395980        0\n",
       "..                   ...           ...      ...\n",
       "195             2.268791      1.118061        6\n",
       "196             2.497807     -0.861839        4\n",
       "197             2.497807      0.923953        6\n",
       "198             2.917671     -1.250054        4\n",
       "199             2.917671      1.273347        6\n",
       "\n",
       "[200 rows x 3 columns]"
      ]
     },
     "execution_count": 6,
     "metadata": {},
     "output_type": "execute_result"
    }
   ],
   "source": [
    "df_scaled= pd.DataFrame(df_scaled,columns=df.columns[0:2])\n",
    "df_scaled['Cluster']=HC\n",
    "df_scaled"
   ]
  },
  {
   "cell_type": "code",
   "execution_count": 7,
   "metadata": {},
   "outputs": [
    {
     "data": {
      "text/plain": [
       "Text(0.5, 0, 'silhouette coefficient')"
      ]
     },
     "execution_count": 7,
     "metadata": {},
     "output_type": "execute_result"
    },
    {
     "data": {
      "image/png": "[encoded data removed]",
      "text/plain": [
       "<Figure size 432x288 with 1 Axes>"
      ]
     },
     "metadata": {
      "needs_background": "light"
     },
     "output_type": "display_data"
    }
   ],
   "source": [
    "### d. Plot the variation of silhouette coefficients with clusters clearly indicating the average \n",
    "### silhouette coefficient for all the clusters.\n",
    "\n",
    "import numpy as np\n",
    "from matplotlib import cm\n",
    "from sklearn.metrics import silhouette_samples\n",
    "cluster_labels=np.unique(HC)\n",
    "n_clusters=cluster_labels.shape[0]\n",
    "silhouette_vals=silhouette_samples(df_scaled,HC,metric='euclidean')\n",
    "y_ax_lower, y_ax_upper=0,0\n",
    "yticks=[]\n",
    "for i, c in enumerate (cluster_labels):\n",
    "    c_silhouette_vals= silhouette_vals[HC==c]\n",
    "    c_silhouette_vals.sort()\n",
    "    y_ax_upper += len(c_silhouette_vals)\n",
    "    color= cm.jet(float(i)/n_clusters)\n",
    "    plt.barh(range(y_ax_lower,y_ax_upper),c_silhouette_vals,height=1,edgecolor='none',color=color)\n",
    "    yticks.append((y_ax_lower+y_ax_upper)/2.)\n",
    "    y_ax_lower += len(c_silhouette_vals)\n",
    "silhouette_avg=np.mean(silhouette_vals)\n",
    "plt.axvline(silhouette_avg,color=\"red\",linestyle=\"--\")\n",
    "plt.yticks(yticks, cluster_labels +1)\n",
    "plt.ylabel('Cluster')\n",
    "plt.xlabel('silhouette coefficient')"
   ]
  },
  {
   "cell_type": "code",
   "execution_count": 8,
   "metadata": {},
   "outputs": [
    {
     "data": {
      "text/plain": [
       "Index(['GIP (BCFperSection)', 'EURper1000ft'], dtype='object')"
      ]
     },
     "execution_count": 8,
     "metadata": {},
     "output_type": "execute_result"
    }
   ],
   "source": [
    "df.columns"
   ]
  },
  {
   "cell_type": "code",
   "execution_count": 9,
   "metadata": {},
   "outputs": [],
   "source": [
    "### e. Convert the dataset to the original scale and export the data as a .csv file.\n",
    "\n",
    "df_scaled['GIP (BCFperSection)']=(df_scaled['GIP (BCFperSection)']*(df['GIP (BCFperSection)'].std())+df['GIP (BCFperSection)'].mean())\n",
    "df_scaled['EURper1000ft']=(df_scaled['EURper1000ft']*(df['EURper1000ft'].std())+df['EURper1000ft'].mean())\n",
    "\n"
   ]
  },
  {
   "cell_type": "code",
   "execution_count": 10,
   "metadata": {},
   "outputs": [],
   "source": [
    "df_scaled.to_csv('HC.csv')"
   ]
  },
  {
   "cell_type": "code",
   "execution_count": 11,
   "metadata": {},
   "outputs": [
    {
     "data": {
      "text/html": [
       "<div>\n",
       "<style scoped>\n",
       "    .dataframe tbody tr th:only-of-type {\n",
       "        vertical-align: middle;\n",
       "    }\n",
       "\n",
       "    .dataframe tbody tr th {\n",
       "        vertical-align: top;\n",
       "    }\n",
       "\n",
       "    .dataframe thead th {\n",
       "        text-align: right;\n",
       "    }\n",
       "</style>\n",
       "<table border=\"1\" class=\"dataframe\">\n",
       "  <thead>\n",
       "    <tr style=\"text-align: right;\">\n",
       "      <th></th>\n",
       "      <th>GIP (BCFperSection)</th>\n",
       "      <th>EURper1000ft</th>\n",
       "    </tr>\n",
       "    <tr>\n",
       "      <th>Cluster</th>\n",
       "      <th></th>\n",
       "      <th></th>\n",
       "    </tr>\n",
       "  </thead>\n",
       "  <tbody>\n",
       "    <tr>\n",
       "      <th>0</th>\n",
       "      <td>86.520674</td>\n",
       "      <td>0.914015</td>\n",
       "    </tr>\n",
       "    <tr>\n",
       "      <th>1</th>\n",
       "      <td>207.042499</td>\n",
       "      <td>2.105918</td>\n",
       "    </tr>\n",
       "    <tr>\n",
       "      <th>2</th>\n",
       "      <td>262.947948</td>\n",
       "      <td>3.556021</td>\n",
       "    </tr>\n",
       "    <tr>\n",
       "      <th>3</th>\n",
       "      <td>82.520600</td>\n",
       "      <td>3.514146</td>\n",
       "    </tr>\n",
       "    <tr>\n",
       "      <th>4</th>\n",
       "      <td>366.717697</td>\n",
       "      <td>0.996007</td>\n",
       "    </tr>\n",
       "    <tr>\n",
       "      <th>5</th>\n",
       "      <td>267.325427</td>\n",
       "      <td>0.556522</td>\n",
       "    </tr>\n",
       "    <tr>\n",
       "      <th>6</th>\n",
       "      <td>361.939069</td>\n",
       "      <td>3.770985</td>\n",
       "    </tr>\n",
       "    <tr>\n",
       "      <th>7</th>\n",
       "      <td>152.965981</td>\n",
       "      <td>2.221052</td>\n",
       "    </tr>\n",
       "  </tbody>\n",
       "</table>\n",
       "</div>"
      ],
      "text/plain": [
       "         GIP (BCFperSection)  EURper1000ft\n",
       "Cluster                                   \n",
       "0                  86.520674      0.914015\n",
       "1                 207.042499      2.105918\n",
       "2                 262.947948      3.556021\n",
       "3                  82.520600      3.514146\n",
       "4                 366.717697      0.996007\n",
       "5                 267.325427      0.556522\n",
       "6                 361.939069      3.770985\n",
       "7                 152.965981      2.221052"
      ]
     },
     "execution_count": 11,
     "metadata": {},
     "output_type": "execute_result"
    }
   ],
   "source": [
    "Group_by=df_scaled.groupby(by='Cluster').mean()\n",
    "Group_by"
   ]
  },
  {
   "cell_type": "code",
   "execution_count": 12,
   "metadata": {},
   "outputs": [
    {
     "data": {
      "text/html": [
       "<div>\n",
       "<style scoped>\n",
       "    .dataframe tbody tr th:only-of-type {\n",
       "        vertical-align: middle;\n",
       "    }\n",
       "\n",
       "    .dataframe tbody tr th {\n",
       "        vertical-align: top;\n",
       "    }\n",
       "\n",
       "    .dataframe thead th {\n",
       "        text-align: right;\n",
       "    }\n",
       "</style>\n",
       "<table border=\"1\" class=\"dataframe\">\n",
       "  <thead>\n",
       "    <tr style=\"text-align: right;\">\n",
       "      <th></th>\n",
       "      <th>GIP (BCFperSection)</th>\n",
       "      <th>EURper1000ft</th>\n",
       "    </tr>\n",
       "    <tr>\n",
       "      <th>Cluster</th>\n",
       "      <th></th>\n",
       "      <th></th>\n",
       "    </tr>\n",
       "  </thead>\n",
       "  <tbody>\n",
       "    <tr>\n",
       "      <th>0</th>\n",
       "      <td>23</td>\n",
       "      <td>23</td>\n",
       "    </tr>\n",
       "    <tr>\n",
       "      <th>1</th>\n",
       "      <td>49</td>\n",
       "      <td>49</td>\n",
       "    </tr>\n",
       "    <tr>\n",
       "      <th>2</th>\n",
       "      <td>30</td>\n",
       "      <td>30</td>\n",
       "    </tr>\n",
       "    <tr>\n",
       "      <th>3</th>\n",
       "      <td>21</td>\n",
       "      <td>21</td>\n",
       "    </tr>\n",
       "    <tr>\n",
       "      <th>4</th>\n",
       "      <td>9</td>\n",
       "      <td>9</td>\n",
       "    </tr>\n",
       "    <tr>\n",
       "      <th>5</th>\n",
       "      <td>23</td>\n",
       "      <td>23</td>\n",
       "    </tr>\n",
       "    <tr>\n",
       "      <th>6</th>\n",
       "      <td>9</td>\n",
       "      <td>9</td>\n",
       "    </tr>\n",
       "    <tr>\n",
       "      <th>7</th>\n",
       "      <td>36</td>\n",
       "      <td>36</td>\n",
       "    </tr>\n",
       "  </tbody>\n",
       "</table>\n",
       "</div>"
      ],
      "text/plain": [
       "         GIP (BCFperSection)  EURper1000ft\n",
       "Cluster                                   \n",
       "0                         23            23\n",
       "1                         49            49\n",
       "2                         30            30\n",
       "3                         21            21\n",
       "4                          9             9\n",
       "5                         23            23\n",
       "6                          9             9\n",
       "7                         36            36"
      ]
     },
     "execution_count": 12,
     "metadata": {},
     "output_type": "execute_result"
    }
   ],
   "source": [
    "df_scaled.groupby(by='Cluster').count()"
   ]
  },
  {
   "cell_type": "code",
   "execution_count": 13,
   "metadata": {},
   "outputs": [],
   "source": [
    "df_scaled.to_csv('HC2.csv')"
   ]
  },
  {
   "cell_type": "markdown",
   "metadata": {},
   "source": [
    "### 2. Import the PE Income Spending Data Set from the provided 'PE_Income_Spending_DataSet.csv file and perform the following (4 points):\n",
    "### a. Apply the isolation forest algorithm using the sklearn library to detect outliers with contamination parameter = 0.3, 0.5, 0.7, and 0.9.\n",
    "### b. Plot a histogram of average anomaly score for each contamination parameter.\n",
    "### c. Generate a scatter plot of spending habits vs. income for each contamination parameter and clearly identify the outlier data."
   ]
  },
  {
   "cell_type": "code",
   "execution_count": 14,
   "metadata": {},
   "outputs": [],
   "source": [
    "df=pd.read_csv('PE_Income_Spending_DataSet.csv')"
   ]
  },
  {
   "cell_type": "code",
   "execution_count": 15,
   "metadata": {},
   "outputs": [
    {
     "data": {
      "text/html": [
       "<div>\n",
       "<style scoped>\n",
       "    .dataframe tbody tr th:only-of-type {\n",
       "        vertical-align: middle;\n",
       "    }\n",
       "\n",
       "    .dataframe tbody tr th {\n",
       "        vertical-align: top;\n",
       "    }\n",
       "\n",
       "    .dataframe thead th {\n",
       "        text-align: right;\n",
       "    }\n",
       "</style>\n",
       "<table border=\"1\" class=\"dataframe\">\n",
       "  <thead>\n",
       "    <tr style=\"text-align: right;\">\n",
       "      <th></th>\n",
       "      <th>Petroleum_Engineer_Age</th>\n",
       "      <th>Petroleum_Engineer_Income (K$)</th>\n",
       "      <th>Spending_Habits (From 1 to 100)</th>\n",
       "      <th>Petroleum_Engineer_Gender_Male</th>\n",
       "    </tr>\n",
       "  </thead>\n",
       "  <tbody>\n",
       "    <tr>\n",
       "      <th>0</th>\n",
       "      <td>19</td>\n",
       "      <td>34.676354</td>\n",
       "      <td>37.05</td>\n",
       "      <td>1</td>\n",
       "    </tr>\n",
       "    <tr>\n",
       "      <th>1</th>\n",
       "      <td>21</td>\n",
       "      <td>34.676354</td>\n",
       "      <td>76.95</td>\n",
       "      <td>1</td>\n",
       "    </tr>\n",
       "    <tr>\n",
       "      <th>2</th>\n",
       "      <td>20</td>\n",
       "      <td>36.988111</td>\n",
       "      <td>5.70</td>\n",
       "      <td>0</td>\n",
       "    </tr>\n",
       "    <tr>\n",
       "      <th>3</th>\n",
       "      <td>23</td>\n",
       "      <td>36.988111</td>\n",
       "      <td>73.15</td>\n",
       "      <td>0</td>\n",
       "    </tr>\n",
       "    <tr>\n",
       "      <th>4</th>\n",
       "      <td>31</td>\n",
       "      <td>39.299868</td>\n",
       "      <td>38.00</td>\n",
       "      <td>0</td>\n",
       "    </tr>\n",
       "    <tr>\n",
       "      <th>...</th>\n",
       "      <td>...</td>\n",
       "      <td>...</td>\n",
       "      <td>...</td>\n",
       "      <td>...</td>\n",
       "    </tr>\n",
       "    <tr>\n",
       "      <th>195</th>\n",
       "      <td>35</td>\n",
       "      <td>277.410832</td>\n",
       "      <td>75.05</td>\n",
       "      <td>0</td>\n",
       "    </tr>\n",
       "    <tr>\n",
       "      <th>196</th>\n",
       "      <td>45</td>\n",
       "      <td>291.281374</td>\n",
       "      <td>26.60</td>\n",
       "      <td>0</td>\n",
       "    </tr>\n",
       "    <tr>\n",
       "      <th>197</th>\n",
       "      <td>32</td>\n",
       "      <td>291.281374</td>\n",
       "      <td>70.30</td>\n",
       "      <td>1</td>\n",
       "    </tr>\n",
       "    <tr>\n",
       "      <th>198</th>\n",
       "      <td>32</td>\n",
       "      <td>316.710700</td>\n",
       "      <td>17.10</td>\n",
       "      <td>1</td>\n",
       "    </tr>\n",
       "    <tr>\n",
       "      <th>199</th>\n",
       "      <td>30</td>\n",
       "      <td>316.710700</td>\n",
       "      <td>78.85</td>\n",
       "      <td>1</td>\n",
       "    </tr>\n",
       "  </tbody>\n",
       "</table>\n",
       "<p>200 rows × 4 columns</p>\n",
       "</div>"
      ],
      "text/plain": [
       "     Petroleum_Engineer_Age  Petroleum_Engineer_Income (K$)  \\\n",
       "0                        19                       34.676354   \n",
       "1                        21                       34.676354   \n",
       "2                        20                       36.988111   \n",
       "3                        23                       36.988111   \n",
       "4                        31                       39.299868   \n",
       "..                      ...                             ...   \n",
       "195                      35                      277.410832   \n",
       "196                      45                      291.281374   \n",
       "197                      32                      291.281374   \n",
       "198                      32                      316.710700   \n",
       "199                      30                      316.710700   \n",
       "\n",
       "     Spending_Habits (From 1 to 100)  Petroleum_Engineer_Gender_Male  \n",
       "0                              37.05                               1  \n",
       "1                              76.95                               1  \n",
       "2                               5.70                               0  \n",
       "3                              73.15                               0  \n",
       "4                              38.00                               0  \n",
       "..                               ...                             ...  \n",
       "195                            75.05                               0  \n",
       "196                            26.60                               0  \n",
       "197                            70.30                               1  \n",
       "198                            17.10                               1  \n",
       "199                            78.85                               1  \n",
       "\n",
       "[200 rows x 4 columns]"
      ]
     },
     "execution_count": 15,
     "metadata": {},
     "output_type": "execute_result"
    }
   ],
   "source": [
    "df=pd.get_dummies(df,drop_first=True)\n",
    "df"
   ]
  },
  {
   "cell_type": "code",
   "execution_count": 16,
   "metadata": {},
   "outputs": [
    {
     "name": "stderr",
     "output_type": "stream",
     "text": [
      "C:\\Users\\rajak\\anaconda3\\lib\\site-packages\\sklearn\\ensemble\\_iforest.py:285: UserWarning: max_samples (250) is greater than the total number of samples (200). max_samples will be set to n_samples for estimation.\n",
      "  warn(\"max_samples (%s) is greater than the \"\n"
     ]
    },
    {
     "data": {
      "text/plain": [
       "IsolationForest(contamination=0.3, max_samples=250, random_state=100)"
      ]
     },
     "execution_count": 16,
     "metadata": {},
     "output_type": "execute_result"
    }
   ],
   "source": [
    "### a. Apply the isolation forest algorithm using the sklearn library to \n",
    "### detect outliers with contamination parameter = 0.3, 0.5, 0.7, and 0.9.\n",
    "\n",
    "from sklearn.ensemble import IsolationForest\n",
    "clf1 = IsolationForest(n_estimators=100,max_samples=250,random_state=100, contamination=0.3) \n",
    "clf1.fit(df)\n"
   ]
  },
  {
   "cell_type": "code",
   "execution_count": 17,
   "metadata": {},
   "outputs": [],
   "source": [
    "df['Scores']=clf1.decision_function(df)"
   ]
  },
  {
   "cell_type": "code",
   "execution_count": 18,
   "metadata": {},
   "outputs": [
    {
     "data": {
      "text/plain": [
       "Text(0.5, 1.0, 'Histogram of Average Anomaly Scores: Lower Scores = More Anomalous Samples')"
      ]
     },
     "execution_count": 18,
     "metadata": {},
     "output_type": "execute_result"
    },
    {
     "data": {
      "image/png": "[encoded data removed]",
      "text/plain": [
       "<Figure size 864x576 with 1 Axes>"
      ]
     },
     "metadata": {
      "needs_background": "light"
     },
     "output_type": "display_data"
    }
   ],
   "source": [
    "### b. Plot a histogram of average anomaly score for each contamination parameter.\n",
    "\n",
    "plt.figure(figsize=(12,8))\n",
    "plt.hist(df['Scores'])\n",
    "plt.title('Histogram of Average Anomaly Scores: Lower Scores = More Anomalous Samples')"
   ]
  },
  {
   "cell_type": "code",
   "execution_count": 19,
   "metadata": {},
   "outputs": [],
   "source": [
    "### c. Generate a scatter plot of spending habits vs. income \n",
    "### for each contamination parameter and clearly identify the outlier data.\n",
    "\n",
    "df['Anomaly']=clf1.predict(df.iloc[:,:4])\n",
    "Anomaly=df.loc[df['Anomaly']==-1]\n",
    "Anomaly_index=list(Anomaly.index)\n",
    "#Anomaly"
   ]
  },
  {
   "cell_type": "code",
   "execution_count": 20,
   "metadata": {},
   "outputs": [
    {
     "data": {
      "text/plain": [
       "<matplotlib.legend.Legend at 0x1b93c904ca0>"
      ]
     },
     "execution_count": 20,
     "metadata": {},
     "output_type": "execute_result"
    },
    {
     "data": {
      "image/png": "[encoded data removed]",
      "text/plain": [
       "<Figure size 864x576 with 1 Axes>"
      ]
     },
     "metadata": {
      "needs_background": "light"
     },
     "output_type": "display_data"
    }
   ],
   "source": [
    "plt.figure(figsize=(12,8))\n",
    "groups = df.groupby(\"Anomaly\")\n",
    "for name, group in groups:\n",
    "    plt.plot(group['Petroleum_Engineer_Income (K$)'], group['Spending_Habits (From 1 to 100)'], marker=\"o\", linestyle=\"\", label=name)\n",
    "plt.xlabel('Petroleum Engineer Income')\n",
    "plt.ylabel('Petroleum Engineer Spending Habits')\n",
    "plt.title('Isolation Forest Anomalies') \n",
    "plt.legend([\"Outliers\",\"Normal\"])"
   ]
  },
  {
   "cell_type": "code",
   "execution_count": 21,
   "metadata": {},
   "outputs": [
    {
     "name": "stderr",
     "output_type": "stream",
     "text": [
      "C:\\Users\\rajak\\anaconda3\\lib\\site-packages\\sklearn\\ensemble\\_iforest.py:285: UserWarning: max_samples (250) is greater than the total number of samples (200). max_samples will be set to n_samples for estimation.\n",
      "  warn(\"max_samples (%s) is greater than the \"\n"
     ]
    },
    {
     "data": {
      "text/plain": [
       "IsolationForest(contamination=0.5, max_samples=250, random_state=100)"
      ]
     },
     "execution_count": 21,
     "metadata": {},
     "output_type": "execute_result"
    }
   ],
   "source": [
    "clf2 = IsolationForest(n_estimators=100,max_samples=250,random_state=100, contamination=0.5) \n",
    "clf2.fit(df)"
   ]
  },
  {
   "cell_type": "code",
   "execution_count": 22,
   "metadata": {},
   "outputs": [],
   "source": [
    "df['Scores']=clf2.decision_function(df)"
   ]
  },
  {
   "cell_type": "code",
   "execution_count": 23,
   "metadata": {},
   "outputs": [
    {
     "data": {
      "text/plain": [
       "Text(0.5, 1.0, 'Histogram of Average Anomaly Scores: Lower Scores = More Anomalous Samples')"
      ]
     },
     "execution_count": 23,
     "metadata": {},
     "output_type": "execute_result"
    },
    {
     "data": {
      "image/png": "[encoded data removed]",
      "text/plain": [
       "<Figure size 864x576 with 1 Axes>"
      ]
     },
     "metadata": {
      "needs_background": "light"
     },
     "output_type": "display_data"
    }
   ],
   "source": [
    "plt.figure(figsize=(12,8))\n",
    "plt.hist(df['Scores'])\n",
    "plt.title('Histogram of Average Anomaly Scores: Lower Scores = More Anomalous Samples')"
   ]
  },
  {
   "cell_type": "code",
   "execution_count": 24,
   "metadata": {},
   "outputs": [],
   "source": [
    "df['Anomaly']=clf2.predict(df)\n",
    "Anomaly=df.loc[df['Anomaly']==-1]\n",
    "Anomaly_index=list(Anomaly.index)\n",
    "#Anomaly"
   ]
  },
  {
   "cell_type": "code",
   "execution_count": 25,
   "metadata": {},
   "outputs": [
    {
     "data": {
      "text/plain": [
       "<matplotlib.legend.Legend at 0x1b93ca3ee20>"
      ]
     },
     "execution_count": 25,
     "metadata": {},
     "output_type": "execute_result"
    },
    {
     "data": {
      "image/png": "[encoded data removed]",
      "text/plain": [
       "<Figure size 864x576 with 1 Axes>"
      ]
     },
     "metadata": {
      "needs_background": "light"
     },
     "output_type": "display_data"
    }
   ],
   "source": [
    "plt.figure(figsize=(12,8))\n",
    "groups = df.groupby(\"Anomaly\")\n",
    "for name, group in groups:\n",
    "    plt.plot(group['Petroleum_Engineer_Income (K$)'], group['Spending_Habits (From 1 to 100)'], marker=\"o\", linestyle=\"\", label=name)\n",
    "plt.xlabel('Petroleum Engineer Income')\n",
    "plt.ylabel('Petroleum Engineer Spending Habits')\n",
    "plt.title('Isolation Forest Anomalies') \n",
    "plt.legend([\"Outliers\",\"Normal\"])"
   ]
  },
  {
   "cell_type": "code",
   "execution_count": null,
   "metadata": {},
   "outputs": [],
   "source": []
  },
  {
   "cell_type": "code",
   "execution_count": 26,
   "metadata": {},
   "outputs": [
    {
     "name": "stderr",
     "output_type": "stream",
     "text": [
      "C:\\Users\\rajak\\anaconda3\\lib\\site-packages\\sklearn\\ensemble\\_iforest.py:285: UserWarning: max_samples (250) is greater than the total number of samples (200). max_samples will be set to n_samples for estimation.\n",
      "  warn(\"max_samples (%s) is greater than the \"\n"
     ]
    },
    {
     "data": {
      "text/plain": [
       "IsolationForest(contamination=0.7, max_samples=250, random_state=100)"
      ]
     },
     "execution_count": 26,
     "metadata": {},
     "output_type": "execute_result"
    }
   ],
   "source": [
    "clf3 = IsolationForest(n_estimators=100,max_samples=250,random_state=100, contamination=0.7) \n",
    "clf3.fit(df)\n"
   ]
  },
  {
   "cell_type": "code",
   "execution_count": 27,
   "metadata": {},
   "outputs": [],
   "source": [
    "df['Scores']=clf3.decision_function(df)"
   ]
  },
  {
   "cell_type": "code",
   "execution_count": 28,
   "metadata": {},
   "outputs": [
    {
     "data": {
      "text/plain": [
       "Text(0.5, 1.0, 'Histogram of Average Anomaly Scores: Lower Scores = More Anomalous Samples')"
      ]
     },
     "execution_count": 28,
     "metadata": {},
     "output_type": "execute_result"
    },
    {
     "data": {
      "image/png": "[encoded data removed]",
      "text/plain": [
       "<Figure size 864x576 with 1 Axes>"
      ]
     },
     "metadata": {
      "needs_background": "light"
     },
     "output_type": "display_data"
    }
   ],
   "source": [
    "plt.figure(figsize=(12,8))\n",
    "plt.hist(df['Scores'])\n",
    "plt.title('Histogram of Average Anomaly Scores: Lower Scores = More Anomalous Samples')"
   ]
  },
  {
   "cell_type": "code",
   "execution_count": 29,
   "metadata": {},
   "outputs": [
    {
     "data": {
      "text/plain": [
       "<matplotlib.legend.Legend at 0x1b93ca3eca0>"
      ]
     },
     "execution_count": 29,
     "metadata": {},
     "output_type": "execute_result"
    },
    {
     "data": {
      "image/png": "[encoded data removed]",
      "text/plain": [
       "<Figure size 864x576 with 1 Axes>"
      ]
     },
     "metadata": {
      "needs_background": "light"
     },
     "output_type": "display_data"
    }
   ],
   "source": [
    "df['Anomaly']=clf3.predict(df)\n",
    "Anomaly=df.loc[df['Anomaly']==-1]\n",
    "Anomaly_index=list(Anomaly.index)\n",
    "Anomaly\n",
    "\n",
    "plt.figure(figsize=(12,8))\n",
    "groups = df.groupby(\"Anomaly\")\n",
    "for name, group in groups:\n",
    "    plt.plot(group['Petroleum_Engineer_Income (K$)'], group['Spending_Habits (From 1 to 100)'], marker=\"o\", linestyle=\"\", label=name)\n",
    "plt.xlabel('Petroleum Engineer Income')\n",
    "plt.ylabel('Petroleum Engineer Spending Habits')\n",
    "plt.title('Isolation Forest Anomalies') \n",
    "plt.legend([\"Outliers\",\"Normal\"])"
   ]
  },
  {
   "cell_type": "code",
   "execution_count": 30,
   "metadata": {},
   "outputs": [
    {
     "name": "stderr",
     "output_type": "stream",
     "text": [
      "C:\\Users\\rajak\\anaconda3\\lib\\site-packages\\sklearn\\ensemble\\_iforest.py:285: UserWarning: max_samples (250) is greater than the total number of samples (200). max_samples will be set to n_samples for estimation.\n",
      "  warn(\"max_samples (%s) is greater than the \"\n"
     ]
    },
    {
     "data": {
      "text/plain": [
       "IsolationForest(contamination=0.9, max_samples=250, random_state=100)"
      ]
     },
     "execution_count": 30,
     "metadata": {},
     "output_type": "execute_result"
    }
   ],
   "source": [
    "clf4 = IsolationForest(n_estimators=100,max_samples=250,random_state=100, contamination=0.9) \n",
    "clf4.fit(df)"
   ]
  },
  {
   "cell_type": "code",
   "execution_count": 31,
   "metadata": {},
   "outputs": [],
   "source": [
    "df['Scores']=clf4.decision_function(df)"
   ]
  },
  {
   "cell_type": "code",
   "execution_count": 32,
   "metadata": {},
   "outputs": [
    {
     "data": {
      "text/plain": [
       "Text(0.5, 1.0, 'Histogram of Average Anomaly Scores: Lower Scores = More Anomalous Samples')"
      ]
     },
     "execution_count": 32,
     "metadata": {},
     "output_type": "execute_result"
    },
    {
     "data": {
      "image/png": "[encoded data removed]",
      "text/plain": [
       "<Figure size 864x576 with 1 Axes>"
      ]
     },
     "metadata": {
      "needs_background": "light"
     },
     "output_type": "display_data"
    }
   ],
   "source": [
    "plt.figure(figsize=(12,8))\n",
    "plt.hist(df['Scores'])\n",
    "plt.title('Histogram of Average Anomaly Scores: Lower Scores = More Anomalous Samples')"
   ]
  },
  {
   "cell_type": "code",
   "execution_count": 33,
   "metadata": {},
   "outputs": [],
   "source": [
    "df['Anomaly']=clf4.predict(df)\n",
    "Anomaly=df.loc[df['Anomaly']==-1]\n",
    "Anomaly_index=list(Anomaly.index)\n",
    "#Anomaly"
   ]
  },
  {
   "cell_type": "code",
   "execution_count": 34,
   "metadata": {},
   "outputs": [
    {
     "data": {
      "text/plain": [
       "<matplotlib.legend.Legend at 0x1b93e1856d0>"
      ]
     },
     "execution_count": 34,
     "metadata": {},
     "output_type": "execute_result"
    },
    {
     "data": {
      "image/png": "[encoded data removed]",
      "text/plain": [
       "<Figure size 864x576 with 1 Axes>"
      ]
     },
     "metadata": {
      "needs_background": "light"
     },
     "output_type": "display_data"
    }
   ],
   "source": [
    "plt.figure(figsize=(12,8))\n",
    "groups = df.groupby(\"Anomaly\")\n",
    "for name, group in groups:\n",
    "    plt.plot(group['Petroleum_Engineer_Income (K$)'], group['Spending_Habits (From 1 to 100)'], marker=\"o\", linestyle=\"\", label=name)\n",
    "plt.xlabel('Petroleum Engineer Income')\n",
    "plt.ylabel('Petroleum Engineer Spending Habits')\n",
    "plt.title('Isolation Forest Anomalies') \n",
    "plt.legend([\"Outliers\",\"Normal\"])"
   ]
  }
 ],
 "metadata": {
  "kernelspec": {
   "display_name": "Python 3",
   "language": "python",
   "name": "python3"
  },
  "language_info": {
   "codemirror_mode": {
    "name": "ipython",
    "version": 3
   },
   "file_extension": ".py",
   "mimetype": "text/x-python",
   "name": "python",
   "nbconvert_exporter": "python",
   "pygments_lexer": "ipython3",
   "version": "3.8.5"
  }
 },
 "nbformat": 4,
 "nbformat_minor": 4
}
